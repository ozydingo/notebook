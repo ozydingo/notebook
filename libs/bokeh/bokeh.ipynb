{
 "cells": [
  {
   "cell_type": "markdown",
   "metadata": {},
   "source": [
    "# Bokeh plots\n",
    "\n",
    "(Don't make the title Bokeh or it'll break Bokeh. No, really.)"
   ]
  },
  {
   "cell_type": "code",
   "execution_count": 80,
   "metadata": {},
   "outputs": [
    {
     "data": {
      "text/html": [
       "\n",
       "    <div class=\"bk-root\">\n",
       "        <a href=\"https://bokeh.org\" target=\"_blank\" class=\"bk-logo bk-logo-small bk-logo-notebook\"></a>\n",
       "        <span id=\"16439\">Loading BokehJS ...</span>\n",
       "    </div>"
      ]
     },
     "metadata": {},
     "output_type": "display_data"
    },
    {
     "data": {
      "application/javascript": [
       "\n",
       "(function(root) {\n",
       "  function now() {\n",
       "    return new Date();\n",
       "  }\n",
       "\n",
       "  var force = true;\n",
       "\n",
       "  if (typeof root._bokeh_onload_callbacks === \"undefined\" || force === true) {\n",
       "    root._bokeh_onload_callbacks = [];\n",
       "    root._bokeh_is_loading = undefined;\n",
       "  }\n",
       "\n",
       "  var JS_MIME_TYPE = 'application/javascript';\n",
       "  var HTML_MIME_TYPE = 'text/html';\n",
       "  var EXEC_MIME_TYPE = 'application/vnd.bokehjs_exec.v0+json';\n",
       "  var CLASS_NAME = 'output_bokeh rendered_html';\n",
       "\n",
       "  /**\n",
       "   * Render data to the DOM node\n",
       "   */\n",
       "  function render(props, node) {\n",
       "    var script = document.createElement(\"script\");\n",
       "    node.appendChild(script);\n",
       "  }\n",
       "\n",
       "  /**\n",
       "   * Handle when an output is cleared or removed\n",
       "   */\n",
       "  function handleClearOutput(event, handle) {\n",
       "    var cell = handle.cell;\n",
       "\n",
       "    var id = cell.output_area._bokeh_element_id;\n",
       "    var server_id = cell.output_area._bokeh_server_id;\n",
       "    // Clean up Bokeh references\n",
       "    if (id != null && id in Bokeh.index) {\n",
       "      Bokeh.index[id].model.document.clear();\n",
       "      delete Bokeh.index[id];\n",
       "    }\n",
       "\n",
       "    if (server_id !== undefined) {\n",
       "      // Clean up Bokeh references\n",
       "      var cmd = \"from bokeh.io.state import curstate; print(curstate().uuid_to_server['\" + server_id + \"'].get_sessions()[0].document.roots[0]._id)\";\n",
       "      cell.notebook.kernel.execute(cmd, {\n",
       "        iopub: {\n",
       "          output: function(msg) {\n",
       "            var id = msg.content.text.trim();\n",
       "            if (id in Bokeh.index) {\n",
       "              Bokeh.index[id].model.document.clear();\n",
       "              delete Bokeh.index[id];\n",
       "            }\n",
       "          }\n",
       "        }\n",
       "      });\n",
       "      // Destroy server and session\n",
       "      var cmd = \"import bokeh.io.notebook as ion; ion.destroy_server('\" + server_id + \"')\";\n",
       "      cell.notebook.kernel.execute(cmd);\n",
       "    }\n",
       "  }\n",
       "\n",
       "  /**\n",
       "   * Handle when a new output is added\n",
       "   */\n",
       "  function handleAddOutput(event, handle) {\n",
       "    var output_area = handle.output_area;\n",
       "    var output = handle.output;\n",
       "\n",
       "    // limit handleAddOutput to display_data with EXEC_MIME_TYPE content only\n",
       "    if ((output.output_type != \"display_data\") || (!output.data.hasOwnProperty(EXEC_MIME_TYPE))) {\n",
       "      return\n",
       "    }\n",
       "\n",
       "    var toinsert = output_area.element.find(\".\" + CLASS_NAME.split(' ')[0]);\n",
       "\n",
       "    if (output.metadata[EXEC_MIME_TYPE][\"id\"] !== undefined) {\n",
       "      toinsert[toinsert.length - 1].firstChild.textContent = output.data[JS_MIME_TYPE];\n",
       "      // store reference to embed id on output_area\n",
       "      output_area._bokeh_element_id = output.metadata[EXEC_MIME_TYPE][\"id\"];\n",
       "    }\n",
       "    if (output.metadata[EXEC_MIME_TYPE][\"server_id\"] !== undefined) {\n",
       "      var bk_div = document.createElement(\"div\");\n",
       "      bk_div.innerHTML = output.data[HTML_MIME_TYPE];\n",
       "      var script_attrs = bk_div.children[0].attributes;\n",
       "      for (var i = 0; i < script_attrs.length; i++) {\n",
       "        toinsert[toinsert.length - 1].firstChild.setAttribute(script_attrs[i].name, script_attrs[i].value);\n",
       "        toinsert[toinsert.length - 1].firstChild.textContent = bk_div.children[0].textContent\n",
       "      }\n",
       "      // store reference to server id on output_area\n",
       "      output_area._bokeh_server_id = output.metadata[EXEC_MIME_TYPE][\"server_id\"];\n",
       "    }\n",
       "  }\n",
       "\n",
       "  function register_renderer(events, OutputArea) {\n",
       "\n",
       "    function append_mime(data, metadata, element) {\n",
       "      // create a DOM node to render to\n",
       "      var toinsert = this.create_output_subarea(\n",
       "        metadata,\n",
       "        CLASS_NAME,\n",
       "        EXEC_MIME_TYPE\n",
       "      );\n",
       "      this.keyboard_manager.register_events(toinsert);\n",
       "      // Render to node\n",
       "      var props = {data: data, metadata: metadata[EXEC_MIME_TYPE]};\n",
       "      render(props, toinsert[toinsert.length - 1]);\n",
       "      element.append(toinsert);\n",
       "      return toinsert\n",
       "    }\n",
       "\n",
       "    /* Handle when an output is cleared or removed */\n",
       "    events.on('clear_output.CodeCell', handleClearOutput);\n",
       "    events.on('delete.Cell', handleClearOutput);\n",
       "\n",
       "    /* Handle when a new output is added */\n",
       "    events.on('output_added.OutputArea', handleAddOutput);\n",
       "\n",
       "    /**\n",
       "     * Register the mime type and append_mime function with output_area\n",
       "     */\n",
       "    OutputArea.prototype.register_mime_type(EXEC_MIME_TYPE, append_mime, {\n",
       "      /* Is output safe? */\n",
       "      safe: true,\n",
       "      /* Index of renderer in `output_area.display_order` */\n",
       "      index: 0\n",
       "    });\n",
       "  }\n",
       "\n",
       "  // register the mime type if in Jupyter Notebook environment and previously unregistered\n",
       "  if (root.Jupyter !== undefined) {\n",
       "    var events = require('base/js/events');\n",
       "    var OutputArea = require('notebook/js/outputarea').OutputArea;\n",
       "\n",
       "    if (OutputArea.prototype.mime_types().indexOf(EXEC_MIME_TYPE) == -1) {\n",
       "      register_renderer(events, OutputArea);\n",
       "    }\n",
       "  }\n",
       "\n",
       "  \n",
       "  if (typeof (root._bokeh_timeout) === \"undefined\" || force === true) {\n",
       "    root._bokeh_timeout = Date.now() + 5000;\n",
       "    root._bokeh_failed_load = false;\n",
       "  }\n",
       "\n",
       "  var NB_LOAD_WARNING = {'data': {'text/html':\n",
       "     \"<div style='background-color: #fdd'>\\n\"+\n",
       "     \"<p>\\n\"+\n",
       "     \"BokehJS does not appear to have successfully loaded. If loading BokehJS from CDN, this \\n\"+\n",
       "     \"may be due to a slow or bad network connection. Possible fixes:\\n\"+\n",
       "     \"</p>\\n\"+\n",
       "     \"<ul>\\n\"+\n",
       "     \"<li>re-rerun `output_notebook()` to attempt to load from CDN again, or</li>\\n\"+\n",
       "     \"<li>use INLINE resources instead, as so:</li>\\n\"+\n",
       "     \"</ul>\\n\"+\n",
       "     \"<code>\\n\"+\n",
       "     \"from bokeh.resources import INLINE\\n\"+\n",
       "     \"output_notebook(resources=INLINE)\\n\"+\n",
       "     \"</code>\\n\"+\n",
       "     \"</div>\"}};\n",
       "\n",
       "  function display_loaded() {\n",
       "    var el = document.getElementById(\"16439\");\n",
       "    if (el != null) {\n",
       "      el.textContent = \"BokehJS is loading...\";\n",
       "    }\n",
       "    if (root.Bokeh !== undefined) {\n",
       "      if (el != null) {\n",
       "        el.textContent = \"BokehJS \" + root.Bokeh.version + \" successfully loaded.\";\n",
       "      }\n",
       "    } else if (Date.now() < root._bokeh_timeout) {\n",
       "      setTimeout(display_loaded, 100)\n",
       "    }\n",
       "  }\n",
       "\n",
       "\n",
       "  function run_callbacks() {\n",
       "    try {\n",
       "      root._bokeh_onload_callbacks.forEach(function(callback) {\n",
       "        if (callback != null)\n",
       "          callback();\n",
       "      });\n",
       "    } finally {\n",
       "      delete root._bokeh_onload_callbacks\n",
       "    }\n",
       "    console.debug(\"Bokeh: all callbacks have finished\");\n",
       "  }\n",
       "\n",
       "  function load_libs(css_urls, js_urls, callback) {\n",
       "    if (css_urls == null) css_urls = [];\n",
       "    if (js_urls == null) js_urls = [];\n",
       "\n",
       "    root._bokeh_onload_callbacks.push(callback);\n",
       "    if (root._bokeh_is_loading > 0) {\n",
       "      console.debug(\"Bokeh: BokehJS is being loaded, scheduling callback at\", now());\n",
       "      return null;\n",
       "    }\n",
       "    if (js_urls == null || js_urls.length === 0) {\n",
       "      run_callbacks();\n",
       "      return null;\n",
       "    }\n",
       "    console.debug(\"Bokeh: BokehJS not loaded, scheduling load and callback at\", now());\n",
       "    root._bokeh_is_loading = css_urls.length + js_urls.length;\n",
       "\n",
       "    function on_load() {\n",
       "      root._bokeh_is_loading--;\n",
       "      if (root._bokeh_is_loading === 0) {\n",
       "        console.debug(\"Bokeh: all BokehJS libraries/stylesheets loaded\");\n",
       "        run_callbacks()\n",
       "      }\n",
       "    }\n",
       "\n",
       "    function on_error() {\n",
       "      console.error(\"failed to load \" + url);\n",
       "    }\n",
       "\n",
       "    for (var i = 0; i < css_urls.length; i++) {\n",
       "      var url = css_urls[i];\n",
       "      const element = document.createElement(\"link\");\n",
       "      element.onload = on_load;\n",
       "      element.onerror = on_error;\n",
       "      element.rel = \"stylesheet\";\n",
       "      element.type = \"text/css\";\n",
       "      element.href = url;\n",
       "      console.debug(\"Bokeh: injecting link tag for BokehJS stylesheet: \", url);\n",
       "      document.body.appendChild(element);\n",
       "    }\n",
       "\n",
       "    const hashes = {\"https://cdn.bokeh.org/bokeh/release/bokeh-2.1.1.min.js\": \"kLr4fYcqcSpbuI95brIH3vnnYCquzzSxHPU6XGQCIkQRGJwhg0StNbj1eegrHs12\", \"https://cdn.bokeh.org/bokeh/release/bokeh-widgets-2.1.1.min.js\": \"xIGPmVtaOm+z0BqfSOMn4lOR6ciex448GIKG4eE61LsAvmGj48XcMQZtKcE/UXZe\", \"https://cdn.bokeh.org/bokeh/release/bokeh-tables-2.1.1.min.js\": \"Dc9u1wF/0zApGIWoBbH77iWEHtdmkuYWG839Uzmv8y8yBLXebjO9ZnERsde5Ln/P\", \"https://cdn.bokeh.org/bokeh/release/bokeh-gl-2.1.1.min.js\": \"cT9JaBz7GiRXdENrJLZNSC6eMNF3nh3fa5fTF51Svp+ukxPdwcU5kGXGPBgDCa2j\"};\n",
       "\n",
       "    for (var i = 0; i < js_urls.length; i++) {\n",
       "      var url = js_urls[i];\n",
       "      var element = document.createElement('script');\n",
       "      element.onload = on_load;\n",
       "      element.onerror = on_error;\n",
       "      element.async = false;\n",
       "      element.src = url;\n",
       "      if (url in hashes) {\n",
       "        element.crossOrigin = \"anonymous\";\n",
       "        element.integrity = \"sha384-\" + hashes[url];\n",
       "      }\n",
       "      console.debug(\"Bokeh: injecting script tag for BokehJS library: \", url);\n",
       "      document.head.appendChild(element);\n",
       "    }\n",
       "  };\n",
       "\n",
       "  function inject_raw_css(css) {\n",
       "    const element = document.createElement(\"style\");\n",
       "    element.appendChild(document.createTextNode(css));\n",
       "    document.body.appendChild(element);\n",
       "  }\n",
       "\n",
       "  \n",
       "  var js_urls = [\"https://cdn.bokeh.org/bokeh/release/bokeh-2.1.1.min.js\", \"https://cdn.bokeh.org/bokeh/release/bokeh-widgets-2.1.1.min.js\", \"https://cdn.bokeh.org/bokeh/release/bokeh-tables-2.1.1.min.js\", \"https://cdn.bokeh.org/bokeh/release/bokeh-gl-2.1.1.min.js\"];\n",
       "  var css_urls = [];\n",
       "  \n",
       "\n",
       "  var inline_js = [\n",
       "    function(Bokeh) {\n",
       "      Bokeh.set_log_level(\"info\");\n",
       "    },\n",
       "    function(Bokeh) {\n",
       "    \n",
       "    \n",
       "    }\n",
       "  ];\n",
       "\n",
       "  function run_inline_js() {\n",
       "    \n",
       "    if (root.Bokeh !== undefined || force === true) {\n",
       "      \n",
       "    for (var i = 0; i < inline_js.length; i++) {\n",
       "      inline_js[i].call(root, root.Bokeh);\n",
       "    }\n",
       "    if (force === true) {\n",
       "        display_loaded();\n",
       "      }} else if (Date.now() < root._bokeh_timeout) {\n",
       "      setTimeout(run_inline_js, 100);\n",
       "    } else if (!root._bokeh_failed_load) {\n",
       "      console.log(\"Bokeh: BokehJS failed to load within specified timeout.\");\n",
       "      root._bokeh_failed_load = true;\n",
       "    } else if (force !== true) {\n",
       "      var cell = $(document.getElementById(\"16439\")).parents('.cell').data().cell;\n",
       "      cell.output_area.append_execute_result(NB_LOAD_WARNING)\n",
       "    }\n",
       "\n",
       "  }\n",
       "\n",
       "  if (root._bokeh_is_loading === 0) {\n",
       "    console.debug(\"Bokeh: BokehJS loaded, going straight to plotting\");\n",
       "    run_inline_js();\n",
       "  } else {\n",
       "    load_libs(css_urls, js_urls, function() {\n",
       "      console.debug(\"Bokeh: BokehJS plotting callback run at\", now());\n",
       "      run_inline_js();\n",
       "    });\n",
       "  }\n",
       "}(window));"
      ],
      "application/vnd.bokehjs_load.v0+json": "\n(function(root) {\n  function now() {\n    return new Date();\n  }\n\n  var force = true;\n\n  if (typeof root._bokeh_onload_callbacks === \"undefined\" || force === true) {\n    root._bokeh_onload_callbacks = [];\n    root._bokeh_is_loading = undefined;\n  }\n\n  \n\n  \n  if (typeof (root._bokeh_timeout) === \"undefined\" || force === true) {\n    root._bokeh_timeout = Date.now() + 5000;\n    root._bokeh_failed_load = false;\n  }\n\n  var NB_LOAD_WARNING = {'data': {'text/html':\n     \"<div style='background-color: #fdd'>\\n\"+\n     \"<p>\\n\"+\n     \"BokehJS does not appear to have successfully loaded. If loading BokehJS from CDN, this \\n\"+\n     \"may be due to a slow or bad network connection. Possible fixes:\\n\"+\n     \"</p>\\n\"+\n     \"<ul>\\n\"+\n     \"<li>re-rerun `output_notebook()` to attempt to load from CDN again, or</li>\\n\"+\n     \"<li>use INLINE resources instead, as so:</li>\\n\"+\n     \"</ul>\\n\"+\n     \"<code>\\n\"+\n     \"from bokeh.resources import INLINE\\n\"+\n     \"output_notebook(resources=INLINE)\\n\"+\n     \"</code>\\n\"+\n     \"</div>\"}};\n\n  function display_loaded() {\n    var el = document.getElementById(\"16439\");\n    if (el != null) {\n      el.textContent = \"BokehJS is loading...\";\n    }\n    if (root.Bokeh !== undefined) {\n      if (el != null) {\n        el.textContent = \"BokehJS \" + root.Bokeh.version + \" successfully loaded.\";\n      }\n    } else if (Date.now() < root._bokeh_timeout) {\n      setTimeout(display_loaded, 100)\n    }\n  }\n\n\n  function run_callbacks() {\n    try {\n      root._bokeh_onload_callbacks.forEach(function(callback) {\n        if (callback != null)\n          callback();\n      });\n    } finally {\n      delete root._bokeh_onload_callbacks\n    }\n    console.debug(\"Bokeh: all callbacks have finished\");\n  }\n\n  function load_libs(css_urls, js_urls, callback) {\n    if (css_urls == null) css_urls = [];\n    if (js_urls == null) js_urls = [];\n\n    root._bokeh_onload_callbacks.push(callback);\n    if (root._bokeh_is_loading > 0) {\n      console.debug(\"Bokeh: BokehJS is being loaded, scheduling callback at\", now());\n      return null;\n    }\n    if (js_urls == null || js_urls.length === 0) {\n      run_callbacks();\n      return null;\n    }\n    console.debug(\"Bokeh: BokehJS not loaded, scheduling load and callback at\", now());\n    root._bokeh_is_loading = css_urls.length + js_urls.length;\n\n    function on_load() {\n      root._bokeh_is_loading--;\n      if (root._bokeh_is_loading === 0) {\n        console.debug(\"Bokeh: all BokehJS libraries/stylesheets loaded\");\n        run_callbacks()\n      }\n    }\n\n    function on_error() {\n      console.error(\"failed to load \" + url);\n    }\n\n    for (var i = 0; i < css_urls.length; i++) {\n      var url = css_urls[i];\n      const element = document.createElement(\"link\");\n      element.onload = on_load;\n      element.onerror = on_error;\n      element.rel = \"stylesheet\";\n      element.type = \"text/css\";\n      element.href = url;\n      console.debug(\"Bokeh: injecting link tag for BokehJS stylesheet: \", url);\n      document.body.appendChild(element);\n    }\n\n    const hashes = {\"https://cdn.bokeh.org/bokeh/release/bokeh-2.1.1.min.js\": \"kLr4fYcqcSpbuI95brIH3vnnYCquzzSxHPU6XGQCIkQRGJwhg0StNbj1eegrHs12\", \"https://cdn.bokeh.org/bokeh/release/bokeh-widgets-2.1.1.min.js\": \"xIGPmVtaOm+z0BqfSOMn4lOR6ciex448GIKG4eE61LsAvmGj48XcMQZtKcE/UXZe\", \"https://cdn.bokeh.org/bokeh/release/bokeh-tables-2.1.1.min.js\": \"Dc9u1wF/0zApGIWoBbH77iWEHtdmkuYWG839Uzmv8y8yBLXebjO9ZnERsde5Ln/P\", \"https://cdn.bokeh.org/bokeh/release/bokeh-gl-2.1.1.min.js\": \"cT9JaBz7GiRXdENrJLZNSC6eMNF3nh3fa5fTF51Svp+ukxPdwcU5kGXGPBgDCa2j\"};\n\n    for (var i = 0; i < js_urls.length; i++) {\n      var url = js_urls[i];\n      var element = document.createElement('script');\n      element.onload = on_load;\n      element.onerror = on_error;\n      element.async = false;\n      element.src = url;\n      if (url in hashes) {\n        element.crossOrigin = \"anonymous\";\n        element.integrity = \"sha384-\" + hashes[url];\n      }\n      console.debug(\"Bokeh: injecting script tag for BokehJS library: \", url);\n      document.head.appendChild(element);\n    }\n  };\n\n  function inject_raw_css(css) {\n    const element = document.createElement(\"style\");\n    element.appendChild(document.createTextNode(css));\n    document.body.appendChild(element);\n  }\n\n  \n  var js_urls = [\"https://cdn.bokeh.org/bokeh/release/bokeh-2.1.1.min.js\", \"https://cdn.bokeh.org/bokeh/release/bokeh-widgets-2.1.1.min.js\", \"https://cdn.bokeh.org/bokeh/release/bokeh-tables-2.1.1.min.js\", \"https://cdn.bokeh.org/bokeh/release/bokeh-gl-2.1.1.min.js\"];\n  var css_urls = [];\n  \n\n  var inline_js = [\n    function(Bokeh) {\n      Bokeh.set_log_level(\"info\");\n    },\n    function(Bokeh) {\n    \n    \n    }\n  ];\n\n  function run_inline_js() {\n    \n    if (root.Bokeh !== undefined || force === true) {\n      \n    for (var i = 0; i < inline_js.length; i++) {\n      inline_js[i].call(root, root.Bokeh);\n    }\n    if (force === true) {\n        display_loaded();\n      }} else if (Date.now() < root._bokeh_timeout) {\n      setTimeout(run_inline_js, 100);\n    } else if (!root._bokeh_failed_load) {\n      console.log(\"Bokeh: BokehJS failed to load within specified timeout.\");\n      root._bokeh_failed_load = true;\n    } else if (force !== true) {\n      var cell = $(document.getElementById(\"16439\")).parents('.cell').data().cell;\n      cell.output_area.append_execute_result(NB_LOAD_WARNING)\n    }\n\n  }\n\n  if (root._bokeh_is_loading === 0) {\n    console.debug(\"Bokeh: BokehJS loaded, going straight to plotting\");\n    run_inline_js();\n  } else {\n    load_libs(css_urls, js_urls, function() {\n      console.debug(\"Bokeh: BokehJS plotting callback run at\", now());\n      run_inline_js();\n    });\n  }\n}(window));"
     },
     "metadata": {},
     "output_type": "display_data"
    }
   ],
   "source": [
    "import bokeh.plotting as bplot\n",
    "import bokeh.io\n",
    "import bokeh.resources\n",
    "bokeh.io.output_notebook() #bokeh.resources.INLINE)"
   ]
  },
  {
   "cell_type": "code",
   "execution_count": 137,
   "metadata": {},
   "outputs": [],
   "source": [
    "import numpy as np\n",
    "import scipy"
   ]
  },
  {
   "cell_type": "code",
   "execution_count": 82,
   "metadata": {},
   "outputs": [],
   "source": [
    "x = np.arange(1000)\n",
    "ws = 250\n",
    "y = np.sin(2 * np.pi * x / ws)\n",
    "e = np.random.randn(*y.shape) * 0.3\n",
    "z = y + e"
   ]
  },
  {
   "cell_type": "code",
   "execution_count": 83,
   "metadata": {},
   "outputs": [
    {
     "data": {
      "text/html": [
       "\n",
       "\n",
       "\n",
       "\n",
       "\n",
       "\n",
       "  <div class=\"bk-root\" id=\"af0f6280-1371-4989-b9e8-f590f6787ad5\" data-root-id=\"16440\"></div>\n"
      ]
     },
     "metadata": {},
     "output_type": "display_data"
    },
    {
     "data": {
      "application/javascript": [
       "(function(root) {\n",
       "  function embed_document(root) {\n",
       "    \n",
       "  var docs_json = {\"57c65490-4049-4d31-afeb-6708037a7178\":{\"roots\":{\"references\":[{\"attributes\":{\"below\":[{\"id\":\"16451\"}],\"center\":[{\"id\":\"16454\"},{\"id\":\"16458\"},{\"id\":\"16486\"}],\"left\":[{\"id\":\"16455\"}],\"renderers\":[{\"id\":\"16476\"}],\"title\":{\"id\":\"16441\"},\"toolbar\":{\"id\":\"16466\"},\"x_range\":{\"id\":\"16443\"},\"x_scale\":{\"id\":\"16447\"},\"y_range\":{\"id\":\"16445\"},\"y_scale\":{\"id\":\"16449\"}},\"id\":\"16440\",\"subtype\":\"Figure\",\"type\":\"Plot\"},{\"attributes\":{},\"id\":\"16449\",\"type\":\"LinearScale\"},{\"attributes\":{\"axis_label\":\"x\",\"formatter\":{\"id\":\"16482\"},\"ticker\":{\"id\":\"16452\"}},\"id\":\"16451\",\"type\":\"LinearAxis\"},{\"attributes\":{},\"id\":\"16483\",\"type\":\"Selection\"},{\"attributes\":{},\"id\":\"16452\",\"type\":\"BasicTicker\"},{\"attributes\":{\"axis\":{\"id\":\"16451\"},\"ticker\":null},\"id\":\"16454\",\"type\":\"Grid\"},{\"attributes\":{\"data_source\":{\"id\":\"16473\"},\"glyph\":{\"id\":\"16474\"},\"hover_glyph\":null,\"muted_glyph\":null,\"nonselection_glyph\":{\"id\":\"16475\"},\"selection_glyph\":null,\"view\":{\"id\":\"16477\"}},\"id\":\"16476\",\"type\":\"GlyphRenderer\"},{\"attributes\":{\"axis_label\":\"y\",\"formatter\":{\"id\":\"16480\"},\"ticker\":{\"id\":\"16456\"}},\"id\":\"16455\",\"type\":\"LinearAxis\"},{\"attributes\":{},\"id\":\"16456\",\"type\":\"BasicTicker\"},{\"attributes\":{\"axis\":{\"id\":\"16455\"},\"dimension\":1,\"ticker\":null},\"id\":\"16458\",\"type\":\"Grid\"},{\"attributes\":{\"source\":{\"id\":\"16473\"}},\"id\":\"16477\",\"type\":\"CDSView\"},{\"attributes\":{\"line_alpha\":0.1,\"line_color\":\"#1f77b4\",\"line_width\":2,\"x\":{\"field\":\"x\"},\"y\":{\"field\":\"y\"}},\"id\":\"16475\",\"type\":\"Line\"},{\"attributes\":{},\"id\":\"16482\",\"type\":\"BasicTickFormatter\"},{\"attributes\":{},\"id\":\"16459\",\"type\":\"PanTool\"},{\"attributes\":{\"data\":{\"x\":[0,1,2,3,4,5,6,7,8,9,10,11,12,13,14,15,16,17,18,19,20,21,22,23,24,25,26,27,28,29,30,31,32,33,34,35,36,37,38,39,40,41,42,43,44,45,46,47,48,49,50,51,52,53,54,55,56,57,58,59,60,61,62,63,64,65,66,67,68,69,70,71,72,73,74,75,76,77,78,79,80,81,82,83,84,85,86,87,88,89,90,91,92,93,94,95,96,97,98,99,100,101,102,103,104,105,106,107,108,109,110,111,112,113,114,115,116,117,118,119,120,121,122,123,124,125,126,127,128,129,130,131,132,133,134,135,136,137,138,139,140,141,142,143,144,145,146,147,148,149,150,151,152,153,154,155,156,157,158,159,160,161,162,163,164,165,166,167,168,169,170,171,172,173,174,175,176,177,178,179,180,181,182,183,184,185,186,187,188,189,190,191,192,193,194,195,196,197,198,199,200,201,202,203,204,205,206,207,208,209,210,211,212,213,214,215,216,217,218,219,220,221,222,223,224,225,226,227,228,229,230,231,232,233,234,235,236,237,238,239,240,241,242,243,244,245,246,247,248,249,250,251,252,253,254,255,256,257,258,259,260,261,262,263,264,265,266,267,268,269,270,271,272,273,274,275,276,277,278,279,280,281,282,283,284,285,286,287,288,289,290,291,292,293,294,295,296,297,298,299,300,301,302,303,304,305,306,307,308,309,310,311,312,313,314,315,316,317,318,319,320,321,322,323,324,325,326,327,328,329,330,331,332,333,334,335,336,337,338,339,340,341,342,343,344,345,346,347,348,349,350,351,352,353,354,355,356,357,358,359,360,361,362,363,364,365,366,367,368,369,370,371,372,373,374,375,376,377,378,379,380,381,382,383,384,385,386,387,388,389,390,391,392,393,394,395,396,397,398,399,400,401,402,403,404,405,406,407,408,409,410,411,412,413,414,415,416,417,418,419,420,421,422,423,424,425,426,427,428,429,430,431,432,433,434,435,436,437,438,439,440,441,442,443,444,445,446,447,448,449,450,451,452,453,454,455,456,457,458,459,460,461,462,463,464,465,466,467,468,469,470,471,472,473,474,475,476,477,478,479,480,481,482,483,484,485,486,487,488,489,490,491,492,493,494,495,496,497,498,499,500,501,502,503,504,505,506,507,508,509,510,511,512,513,514,515,516,517,518,519,520,521,522,523,524,525,526,527,528,529,530,531,532,533,534,535,536,537,538,539,540,541,542,543,544,545,546,547,548,549,550,551,552,553,554,555,556,557,558,559,560,561,562,563,564,565,566,567,568,569,570,571,572,573,574,575,576,577,578,579,580,581,582,583,584,585,586,587,588,589,590,591,592,593,594,595,596,597,598,599,600,601,602,603,604,605,606,607,608,609,610,611,612,613,614,615,616,617,618,619,620,621,622,623,624,625,626,627,628,629,630,631,632,633,634,635,636,637,638,639,640,641,642,643,644,645,646,647,648,649,650,651,652,653,654,655,656,657,658,659,660,661,662,663,664,665,666,667,668,669,670,671,672,673,674,675,676,677,678,679,680,681,682,683,684,685,686,687,688,689,690,691,692,693,694,695,696,697,698,699,700,701,702,703,704,705,706,707,708,709,710,711,712,713,714,715,716,717,718,719,720,721,722,723,724,725,726,727,728,729,730,731,732,733,734,735,736,737,738,739,740,741,742,743,744,745,746,747,748,749,750,751,752,753,754,755,756,757,758,759,760,761,762,763,764,765,766,767,768,769,770,771,772,773,774,775,776,777,778,779,780,781,782,783,784,785,786,787,788,789,790,791,792,793,794,795,796,797,798,799,800,801,802,803,804,805,806,807,808,809,810,811,812,813,814,815,816,817,818,819,820,821,822,823,824,825,826,827,828,829,830,831,832,833,834,835,836,837,838,839,840,841,842,843,844,845,846,847,848,849,850,851,852,853,854,855,856,857,858,859,860,861,862,863,864,865,866,867,868,869,870,871,872,873,874,875,876,877,878,879,880,881,882,883,884,885,886,887,888,889,890,891,892,893,894,895,896,897,898,899,900,901,902,903,904,905,906,907,908,909,910,911,912,913,914,915,916,917,918,919,920,921,922,923,924,925,926,927,928,929,930,931,932,933,934,935,936,937,938,939,940,941,942,943,944,945,946,947,948,949,950,951,952,953,954,955,956,957,958,959,960,961,962,963,964,965,966,967,968,969,970,971,972,973,974,975,976,977,978,979,980,981,982,983,984,985,986,987,988,989,990,991,992,993,994,995,996,997,998,999],\"y\":{\"__ndarray__\":\"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\",\"dtype\":\"float64\",\"order\":\"little\",\"shape\":[1000]}},\"selected\":{\"id\":\"16483\"},\"selection_policy\":{\"id\":\"16484\"}},\"id\":\"16473\",\"type\":\"ColumnDataSource\"},{\"attributes\":{},\"id\":\"16480\",\"type\":\"BasicTickFormatter\"},{\"attributes\":{},\"id\":\"16460\",\"type\":\"WheelZoomTool\"},{\"attributes\":{\"overlay\":{\"id\":\"16465\"}},\"id\":\"16461\",\"type\":\"BoxZoomTool\"},{\"attributes\":{\"bottom_units\":\"screen\",\"fill_alpha\":0.5,\"fill_color\":\"lightgrey\",\"left_units\":\"screen\",\"level\":\"overlay\",\"line_alpha\":1.0,\"line_color\":\"black\",\"line_dash\":[4,4],\"line_width\":2,\"right_units\":\"screen\",\"top_units\":\"screen\"},\"id\":\"16465\",\"type\":\"BoxAnnotation\"},{\"attributes\":{},\"id\":\"16462\",\"type\":\"SaveTool\"},{\"attributes\":{\"text\":\"Some data\"},\"id\":\"16441\",\"type\":\"Title\"},{\"attributes\":{\"label\":{\"value\":\"the data\"},\"renderers\":[{\"id\":\"16476\"}]},\"id\":\"16487\",\"type\":\"LegendItem\"},{\"attributes\":{},\"id\":\"16463\",\"type\":\"ResetTool\"},{\"attributes\":{\"items\":[{\"id\":\"16487\"}]},\"id\":\"16486\",\"type\":\"Legend\"},{\"attributes\":{},\"id\":\"16445\",\"type\":\"DataRange1d\"},{\"attributes\":{},\"id\":\"16464\",\"type\":\"HelpTool\"},{\"attributes\":{\"line_color\":\"#1f77b4\",\"line_width\":2,\"x\":{\"field\":\"x\"},\"y\":{\"field\":\"y\"}},\"id\":\"16474\",\"type\":\"Line\"},{\"attributes\":{},\"id\":\"16443\",\"type\":\"DataRange1d\"},{\"attributes\":{\"active_drag\":\"auto\",\"active_inspect\":\"auto\",\"active_multi\":null,\"active_scroll\":\"auto\",\"active_tap\":\"auto\",\"tools\":[{\"id\":\"16459\"},{\"id\":\"16460\"},{\"id\":\"16461\"},{\"id\":\"16462\"},{\"id\":\"16463\"},{\"id\":\"16464\"}]},\"id\":\"16466\",\"type\":\"Toolbar\"},{\"attributes\":{},\"id\":\"16447\",\"type\":\"LinearScale\"},{\"attributes\":{},\"id\":\"16484\",\"type\":\"UnionRenderers\"}],\"root_ids\":[\"16440\"]},\"title\":\"Bokeh Application\",\"version\":\"2.1.1\"}};\n",
       "  var render_items = [{\"docid\":\"57c65490-4049-4d31-afeb-6708037a7178\",\"root_ids\":[\"16440\"],\"roots\":{\"16440\":\"af0f6280-1371-4989-b9e8-f590f6787ad5\"}}];\n",
       "  root.Bokeh.embed.embed_items_notebook(docs_json, render_items);\n",
       "\n",
       "  }\n",
       "  if (root.Bokeh !== undefined) {\n",
       "    embed_document(root);\n",
       "  } else {\n",
       "    var attempts = 0;\n",
       "    var timer = setInterval(function(root) {\n",
       "      if (root.Bokeh !== undefined) {\n",
       "        clearInterval(timer);\n",
       "        embed_document(root);\n",
       "      } else {\n",
       "        attempts++;\n",
       "        if (attempts > 100) {\n",
       "          clearInterval(timer);\n",
       "          console.log(\"Bokeh: ERROR: Unable to run BokehJS code because BokehJS library is missing\");\n",
       "        }\n",
       "      }\n",
       "    }, 10, root)\n",
       "  }\n",
       "})(window);"
      ],
      "application/vnd.bokehjs_exec.v0+json": ""
     },
     "metadata": {
      "application/vnd.bokehjs_exec.v0+json": {
       "id": "16440"
      }
     },
     "output_type": "display_data"
    }
   ],
   "source": [
    "plot = bplot.figure(title=\"Some data\", x_axis_label=\"x\", y_axis_label=\"y\")\n",
    "plot.line(x, z, legend_label=\"the data\", line_width=2)\n",
    "bplot.show(plot)"
   ]
  },
  {
   "cell_type": "code",
   "execution_count": 84,
   "metadata": {},
   "outputs": [
    {
     "data": {
      "text/html": [
       "\n",
       "\n",
       "\n",
       "\n",
       "\n",
       "\n",
       "  <div class=\"bk-root\" id=\"c0492b0b-2a70-4609-8cbe-71bef185c8d8\" data-root-id=\"16982\"></div>\n"
      ]
     },
     "metadata": {},
     "output_type": "display_data"
    },
    {
     "data": {
      "application/javascript": [
       "(function(root) {\n",
       "  function embed_document(root) {\n",
       "    \n",
       "  var docs_json = {\"1e563b3b-3ded-4470-93d2-7a49115e87bf\":{\"roots\":{\"references\":[{\"attributes\":{\"below\":[{\"id\":\"16993\"}],\"center\":[{\"id\":\"16996\"},{\"id\":\"17000\"},{\"id\":\"17028\"}],\"left\":[{\"id\":\"16997\"}],\"renderers\":[{\"id\":\"17018\"},{\"id\":\"17033\"}],\"title\":{\"id\":\"16983\"},\"toolbar\":{\"id\":\"17008\"},\"x_range\":{\"id\":\"16985\"},\"x_scale\":{\"id\":\"16989\"},\"y_range\":{\"id\":\"16987\"},\"y_scale\":{\"id\":\"16991\"}},\"id\":\"16982\",\"subtype\":\"Figure\",\"type\":\"Plot\"},{\"attributes\":{},\"id\":\"16987\",\"type\":\"DataRange1d\"},{\"attributes\":{},\"id\":\"17042\",\"type\":\"Selection\"},{\"attributes\":{\"active_drag\":\"auto\",\"active_inspect\":\"auto\",\"active_multi\":null,\"active_scroll\":\"auto\",\"active_tap\":\"auto\",\"tools\":[{\"id\":\"17001\"},{\"id\":\"17002\"},{\"id\":\"17003\"},{\"id\":\"17004\"},{\"id\":\"17005\"},{\"id\":\"17006\"}]},\"id\":\"17008\",\"type\":\"Toolbar\"},{\"attributes\":{},\"id\":\"16985\",\"type\":\"DataRange1d\"},{\"attributes\":{},\"id\":\"17026\",\"type\":\"UnionRenderers\"},{\"attributes\":{\"label\":{\"value\":\"expected\"},\"renderers\":[{\"id\":\"17018\"}]},\"id\":\"17029\",\"type\":\"LegendItem\"},{\"attributes\":{\"axis\":{\"id\":\"16993\"},\"ticker\":null},\"id\":\"16996\",\"type\":\"Grid\"},{\"attributes\":{\"line_color\":\"#cccc22\",\"line_width\":2,\"x\":{\"field\":\"x\"},\"y\":{\"field\":\"y\"}},\"id\":\"17016\",\"type\":\"Line\"},{\"attributes\":{\"fill_alpha\":{\"value\":0.1},\"fill_color\":{\"value\":\"#cc3333\"},\"line_alpha\":{\"value\":0.1},\"line_color\":{\"value\":null},\"size\":{\"units\":\"screen\",\"value\":7},\"x\":{\"field\":\"x\"},\"y\":{\"field\":\"y\"}},\"id\":\"17032\",\"type\":\"Circle\"},{\"attributes\":{\"source\":{\"id\":\"17030\"}},\"id\":\"17034\",\"type\":\"CDSView\"},{\"attributes\":{},\"id\":\"16998\",\"type\":\"BasicTicker\"},{\"attributes\":{\"axis\":{\"id\":\"16997\"},\"dimension\":1,\"ticker\":null},\"id\":\"17000\",\"type\":\"Grid\"},{\"attributes\":{\"axis_label\":\"y\",\"formatter\":{\"id\":\"17022\"},\"ticker\":{\"id\":\"16998\"}},\"id\":\"16997\",\"type\":\"LinearAxis\"},{\"attributes\":{},\"id\":\"17043\",\"type\":\"UnionRenderers\"},{\"attributes\":{},\"id\":\"17001\",\"type\":\"PanTool\"},{\"attributes\":{\"overlay\":{\"id\":\"17007\"}},\"id\":\"17003\",\"type\":\"BoxZoomTool\"},{\"attributes\":{\"fill_alpha\":{\"field\":\"fill_alpha\"},\"fill_color\":{\"value\":\"#cc3333\"},\"line_color\":{\"value\":null},\"size\":{\"units\":\"screen\",\"value\":7},\"x\":{\"field\":\"x\"},\"y\":{\"field\":\"y\"}},\"id\":\"17031\",\"type\":\"Circle\"},{\"attributes\":{\"bottom_units\":\"screen\",\"fill_alpha\":0.5,\"fill_color\":\"lightgrey\",\"left_units\":\"screen\",\"level\":\"overlay\",\"line_alpha\":1.0,\"line_color\":\"black\",\"line_dash\":[4,4],\"line_width\":2,\"right_units\":\"screen\",\"top_units\":\"screen\"},\"id\":\"17007\",\"type\":\"BoxAnnotation\"},{\"attributes\":{\"data_source\":{\"id\":\"17030\"},\"glyph\":{\"id\":\"17031\"},\"hover_glyph\":null,\"muted_glyph\":null,\"nonselection_glyph\":{\"id\":\"17032\"},\"selection_glyph\":null,\"view\":{\"id\":\"17034\"}},\"id\":\"17033\",\"type\":\"GlyphRenderer\"},{\"attributes\":{},\"id\":\"16991\",\"type\":\"LinearScale\"},{\"attributes\":{},\"id\":\"17024\",\"type\":\"BasicTickFormatter\"},{\"attributes\":{\"data\":{\"fill_alpha\":{\"__ndarray__\":\"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\",\"dtype\":\"float64\",\"order\":\"little\",\"shape\":[1000]},\"x\":[0,1,2,3,4,5,6,7,8,9,10,11,12,13,14,15,16,17,18,19,20,21,22,23,24,25,26,27,28,29,30,31,32,33,34,35,36,37,38,39,40,41,42,43,44,45,46,47,48,49,50,51,52,53,54,55,56,57,58,59,60,61,62,63,64,65,66,67,68,69,70,71,72,73,74,75,76,77,78,79,80,81,82,83,84,85,86,87,88,89,90,91,92,93,94,95,96,97,98,99,100,101,102,103,104,105,106,107,108,109,110,111,112,113,114,115,116,117,118,119,120,121,122,123,124,125,126,127,128,129,130,131,132,133,134,135,136,137,138,139,140,141,142,143,144,145,146,147,148,149,150,151,152,153,154,155,156,157,158,159,160,161,162,163,164,165,166,167,168,169,170,171,172,173,174,175,176,177,178,179,180,181,182,183,184,185,186,187,188,189,190,191,192,193,194,195,196,197,198,199,200,201,202,203,204,205,206,207,208,209,210,211,212,213,214,215,216,217,218,219,220,221,222,223,224,225,226,227,228,229,230,231,232,233,234,235,236,237,238,239,240,241,242,243,244,245,246,247,248,249,250,251,252,253,254,255,256,257,258,259,260,261,262,263,264,265,266,267,268,269,270,271,272,273,274,275,276,277,278,279,280,281,282,283,284,285,286,287,288,289,290,291,292,293,294,295,296,297,298,299,300,301,302,303,304,305,306,307,308,309,310,311,312,313,314,315,316,317,318,319,320,321,322,323,324,325,326,327,328,329,330,331,332,333,334,335,336,337,338,339,340,341,342,343,344,345,346,347,348,349,350,351,352,353,354,355,356,357,358,359,360,361,362,363,364,365,366,367,368,369,370,371,372,373,374,375,376,377,378,379,380,381,382,383,384,385,386,387,388,389,390,391,392,393,394,395,396,397,398,399,400,401,402,403,404,405,406,407,408,409,410,411,412,413,414,415,416,417,418,419,420,421,422,423,424,425,426,427,428,429,430,431,432,433,434,435,436,437,438,439,440,441,442,443,444,445,446,447,448,449,450,451,452,453,454,455,456,457,458,459,460,461,462,463,464,465,466,467,468,469,470,471,472,473,474,475,476,477,478,479,480,481,482,483,484,485,486,487,488,489,490,491,492,493,494,495,496,497,498,499,500,501,502,503,504,505,506,507,508,509,510,511,512,513,514,515,516,517,518,519,520,521,522,523,524,525,526,527,528,529,530,531,532,533,534,535,536,537,538,539,540,541,542,543,544,545,546,547,548,549,550,551,552,553,554,555,556,557,558,559,560,561,562,563,564,565,566,567,568,569,570,571,572,573,574,575,576,577,578,579,580,581,582,583,584,585,586,587,588,589,590,591,592,593,594,595,596,597,598,599,600,601,602,603,604,605,606,607,608,609,610,611,612,613,614,615,616,617,618,619,620,621,622,623,624,625,626,627,628,629,630,631,632,633,634,635,636,637,638,639,640,641,642,643,644,645,646,647,648,649,650,651,652,653,654,655,656,657,658,659,660,661,662,663,664,665,666,667,668,669,670,671,672,673,674,675,676,677,678,679,680,681,682,683,684,685,686,687,688,689,690,691,692,693,694,695,696,697,698,699,700,701,702,703,704,705,706,707,708,709,710,711,712,713,714,715,716,717,718,719,720,721,722,723,724,725,726,727,728,729,730,731,732,733,734,735,736,737,738,739,740,741,742,743,744,745,746,747,748,749,750,751,752,753,754,755,756,757,758,759,760,761,762,763,764,765,766,767,768,769,770,771,772,773,774,775,776,777,778,779,780,781,782,783,784,785,786,787,788,789,790,791,792,793,794,795,796,797,798,799,800,801,802,803,804,805,806,807,808,809,810,811,812,813,814,815,816,817,818,819,820,821,822,823,824,825,826,827,828,829,830,831,832,833,834,835,836,837,838,839,840,841,842,843,844,845,846,847,848,849,850,851,852,853,854,855,856,857,858,859,860,861,862,863,864,865,866,867,868,869,870,871,872,873,874,875,876,877,878,879,880,881,882,883,884,885,886,887,888,889,890,891,892,893,894,895,896,897,898,899,900,901,902,903,904,905,906,907,908,909,910,911,912,913,914,915,916,917,918,919,920,921,922,923,924,925,926,927,928,929,930,931,932,933,934,935,936,937,938,939,940,941,942,943,944,945,946,947,948,949,950,951,952,953,954,955,956,957,958,959,960,961,962,963,964,965,966,967,968,969,970,971,972,973,974,975,976,977,978,979,980,981,982,983,984,985,986,987,988,989,990,991,992,993,994,995,996,997,998,999],\"y\":{\"__ndarray__\":\"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\",\"dtype\":\"float64\",\"order\":\"little\",\"shape\":[1000]}},\"selected\":{\"id\":\"17042\"},\"selection_policy\":{\"id\":\"17043\"}},\"id\":\"17030\",\"type\":\"ColumnDataSource\"},{\"attributes\":{},\"id\":\"17002\",\"type\":\"WheelZoomTool\"},{\"attributes\":{\"text\":\"Some data\"},\"id\":\"16983\",\"type\":\"Title\"},{\"attributes\":{},\"id\":\"17004\",\"type\":\"SaveTool\"},{\"attributes\":{},\"id\":\"16989\",\"type\":\"LinearScale\"},{\"attributes\":{},\"id\":\"17005\",\"type\":\"ResetTool\"},{\"attributes\":{\"data\":{\"x\":[0,1,2,3,4,5,6,7,8,9,10,11,12,13,14,15,16,17,18,19,20,21,22,23,24,25,26,27,28,29,30,31,32,33,34,35,36,37,38,39,40,41,42,43,44,45,46,47,48,49,50,51,52,53,54,55,56,57,58,59,60,61,62,63,64,65,66,67,68,69,70,71,72,73,74,75,76,77,78,79,80,81,82,83,84,85,86,87,88,89,90,91,92,93,94,95,96,97,98,99,100,101,102,103,104,105,106,107,108,109,110,111,112,113,114,115,116,117,118,119,120,121,122,123,124,125,126,127,128,129,130,131,132,133,134,135,136,137,138,139,140,141,142,143,144,145,146,147,148,149,150,151,152,153,154,155,156,157,158,159,160,161,162,163,164,165,166,167,168,169,170,171,172,173,174,175,176,177,178,179,180,181,182,183,184,185,186,187,188,189,190,191,192,193,194,195,196,197,198,199,200,201,202,203,204,205,206,207,208,209,210,211,212,213,214,215,216,217,218,219,220,221,222,223,224,225,226,227,228,229,230,231,232,233,234,235,236,237,238,239,240,241,242,243,244,245,246,247,248,249,250,251,252,253,254,255,256,257,258,259,260,261,262,263,264,265,266,267,268,269,270,271,272,273,274,275,276,277,278,279,280,281,282,283,284,285,286,287,288,289,290,291,292,293,294,295,296,297,298,299,300,301,302,303,304,305,306,307,308,309,310,311,312,313,314,315,316,317,318,319,320,321,322,323,324,325,326,327,328,329,330,331,332,333,334,335,336,337,338,339,340,341,342,343,344,345,346,347,348,349,350,351,352,353,354,355,356,357,358,359,360,361,362,363,364,365,366,367,368,369,370,371,372,373,374,375,376,377,378,379,380,381,382,383,384,385,386,387,388,389,390,391,392,393,394,395,396,397,398,399,400,401,402,403,404,405,406,407,408,409,410,411,412,413,414,415,416,417,418,419,420,421,422,423,424,425,426,427,428,429,430,431,432,433,434,435,436,437,438,439,440,441,442,443,444,445,446,447,448,449,450,451,452,453,454,455,456,457,458,459,460,461,462,463,464,465,466,467,468,469,470,471,472,473,474,475,476,477,478,479,480,481,482,483,484,485,486,487,488,489,490,491,492,493,494,495,496,497,498,499,500,501,502,503,504,505,506,507,508,509,510,511,512,513,514,515,516,517,518,519,520,521,522,523,524,525,526,527,528,529,530,531,532,533,534,535,536,537,538,539,540,541,542,543,544,545,546,547,548,549,550,551,552,553,554,555,556,557,558,559,560,561,562,563,564,565,566,567,568,569,570,571,572,573,574,575,576,577,578,579,580,581,582,583,584,585,586,587,588,589,590,591,592,593,594,595,596,597,598,599,600,601,602,603,604,605,606,607,608,609,610,611,612,613,614,615,616,617,618,619,620,621,622,623,624,625,626,627,628,629,630,631,632,633,634,635,636,637,638,639,640,641,642,643,644,645,646,647,648,649,650,651,652,653,654,655,656,657,658,659,660,661,662,663,664,665,666,667,668,669,670,671,672,673,674,675,676,677,678,679,680,681,682,683,684,685,686,687,688,689,690,691,692,693,694,695,696,697,698,699,700,701,702,703,704,705,706,707,708,709,710,711,712,713,714,715,716,717,718,719,720,721,722,723,724,725,726,727,728,729,730,731,732,733,734,735,736,737,738,739,740,741,742,743,744,745,746,747,748,749,750,751,752,753,754,755,756,757,758,759,760,761,762,763,764,765,766,767,768,769,770,771,772,773,774,775,776,777,778,779,780,781,782,783,784,785,786,787,788,789,790,791,792,793,794,795,796,797,798,799,800,801,802,803,804,805,806,807,808,809,810,811,812,813,814,815,816,817,818,819,820,821,822,823,824,825,826,827,828,829,830,831,832,833,834,835,836,837,838,839,840,841,842,843,844,845,846,847,848,849,850,851,852,853,854,855,856,857,858,859,860,861,862,863,864,865,866,867,868,869,870,871,872,873,874,875,876,877,878,879,880,881,882,883,884,885,886,887,888,889,890,891,892,893,894,895,896,897,898,899,900,901,902,903,904,905,906,907,908,909,910,911,912,913,914,915,916,917,918,919,920,921,922,923,924,925,926,927,928,929,930,931,932,933,934,935,936,937,938,939,940,941,942,943,944,945,946,947,948,949,950,951,952,953,954,955,956,957,958,959,960,961,962,963,964,965,966,967,968,969,970,971,972,973,974,975,976,977,978,979,980,981,982,983,984,985,986,987,988,989,990,991,992,993,994,995,996,997,998,999],\"y\":{\"__ndarray__\":\"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\",\"dtype\":\"float64\",\"order\":\"little\",\"shape\":[1000]}},\"selected\":{\"id\":\"17025\"},\"selection_policy\":{\"id\":\"17026\"}},\"id\":\"17015\",\"type\":\"ColumnDataSource\"},{\"attributes\":{\"source\":{\"id\":\"17015\"}},\"id\":\"17019\",\"type\":\"CDSView\"},{\"attributes\":{\"axis_label\":\"x\",\"formatter\":{\"id\":\"17024\"},\"ticker\":{\"id\":\"16994\"}},\"id\":\"16993\",\"type\":\"LinearAxis\"},{\"attributes\":{\"items\":[{\"id\":\"17029\"},{\"id\":\"17045\"}]},\"id\":\"17028\",\"type\":\"Legend\"},{\"attributes\":{\"line_alpha\":0.1,\"line_color\":\"#cccc22\",\"line_width\":2,\"x\":{\"field\":\"x\"},\"y\":{\"field\":\"y\"}},\"id\":\"17017\",\"type\":\"Line\"},{\"attributes\":{},\"id\":\"17022\",\"type\":\"BasicTickFormatter\"},{\"attributes\":{\"label\":{\"value\":\"error\"},\"renderers\":[{\"id\":\"17033\"}]},\"id\":\"17045\",\"type\":\"LegendItem\"},{\"attributes\":{},\"id\":\"17006\",\"type\":\"HelpTool\"},{\"attributes\":{},\"id\":\"17025\",\"type\":\"Selection\"},{\"attributes\":{\"data_source\":{\"id\":\"17015\"},\"glyph\":{\"id\":\"17016\"},\"hover_glyph\":null,\"muted_glyph\":null,\"nonselection_glyph\":{\"id\":\"17017\"},\"selection_glyph\":null,\"view\":{\"id\":\"17019\"}},\"id\":\"17018\",\"type\":\"GlyphRenderer\"},{\"attributes\":{},\"id\":\"16994\",\"type\":\"BasicTicker\"}],\"root_ids\":[\"16982\"]},\"title\":\"Bokeh Application\",\"version\":\"2.1.1\"}};\n",
       "  var render_items = [{\"docid\":\"1e563b3b-3ded-4470-93d2-7a49115e87bf\",\"root_ids\":[\"16982\"],\"roots\":{\"16982\":\"c0492b0b-2a70-4609-8cbe-71bef185c8d8\"}}];\n",
       "  root.Bokeh.embed.embed_items_notebook(docs_json, render_items);\n",
       "\n",
       "  }\n",
       "  if (root.Bokeh !== undefined) {\n",
       "    embed_document(root);\n",
       "  } else {\n",
       "    var attempts = 0;\n",
       "    var timer = setInterval(function(root) {\n",
       "      if (root.Bokeh !== undefined) {\n",
       "        clearInterval(timer);\n",
       "        embed_document(root);\n",
       "      } else {\n",
       "        attempts++;\n",
       "        if (attempts > 100) {\n",
       "          clearInterval(timer);\n",
       "          console.log(\"Bokeh: ERROR: Unable to run BokehJS code because BokehJS library is missing\");\n",
       "        }\n",
       "      }\n",
       "    }, 10, root)\n",
       "  }\n",
       "})(window);"
      ],
      "application/vnd.bokehjs_exec.v0+json": ""
     },
     "metadata": {
      "application/vnd.bokehjs_exec.v0+json": {
       "id": "16982"
      }
     },
     "output_type": "display_data"
    }
   ],
   "source": [
    "plot = bplot.figure(title=\"Some data\", x_axis_label=\"x\", y_axis_label=\"y\")\n",
    "plot.line(x, y, color=\"#cccc22\", legend_label=\"expected\", line_width=2)\n",
    "plot.circle(x, z, line_color=None, size=7, fill_color=\"#cc3333\", fill_alpha=np.tanh(3*e**2), legend_label=\"error\")\n",
    "bplot.show(plot)"
   ]
  },
  {
   "cell_type": "code",
   "execution_count": 121,
   "metadata": {},
   "outputs": [],
   "source": [
    "v = np.random.randn(15000)\n",
    "w = 0.5*np.random.randn(3000) + 2\n",
    "q = np.hstack((v, w))\n",
    "\n",
    "Q, e = np.histogram(q, 50)"
   ]
  },
  {
   "cell_type": "code",
   "execution_count": 122,
   "metadata": {},
   "outputs": [
    {
     "data": {
      "text/html": [
       "\n",
       "\n",
       "\n",
       "\n",
       "\n",
       "\n",
       "  <div class=\"bk-root\" id=\"a6760b21-cde2-4311-84b9-79aeb7471e7e\" data-root-id=\"24323\"></div>\n"
      ]
     },
     "metadata": {},
     "output_type": "display_data"
    },
    {
     "data": {
      "application/javascript": [
       "(function(root) {\n",
       "  function embed_document(root) {\n",
       "    \n",
       "  var docs_json = {\"de0426d7-b906-42d0-82fa-e6cba5169ac4\":{\"roots\":{\"references\":[{\"attributes\":{\"below\":[{\"id\":\"24334\"}],\"center\":[{\"id\":\"24337\"},{\"id\":\"24341\"}],\"left\":[{\"id\":\"24338\"}],\"renderers\":[{\"id\":\"24359\"}],\"title\":{\"id\":\"24324\"},\"toolbar\":{\"id\":\"24349\"},\"x_range\":{\"id\":\"24326\"},\"x_scale\":{\"id\":\"24330\"},\"y_range\":{\"id\":\"24328\"},\"y_scale\":{\"id\":\"24332\"}},\"id\":\"24323\",\"subtype\":\"Figure\",\"type\":\"Plot\"},{\"attributes\":{\"data_source\":{\"id\":\"24356\"},\"glyph\":{\"id\":\"24357\"},\"hover_glyph\":null,\"muted_glyph\":null,\"nonselection_glyph\":{\"id\":\"24358\"},\"selection_glyph\":null,\"view\":{\"id\":\"24360\"}},\"id\":\"24359\",\"type\":\"GlyphRenderer\"},{\"attributes\":{\"source\":{\"id\":\"24356\"}},\"id\":\"24360\",\"type\":\"CDSView\"},{\"attributes\":{\"fill_color\":{\"value\":\"#1f77b4\"},\"line_color\":{\"value\":\"#1f77b4\"},\"top\":{\"field\":\"top\"},\"width\":{\"value\":0.1575541330663346},\"x\":{\"field\":\"x\"}},\"id\":\"24357\",\"type\":\"VBar\"},{\"attributes\":{\"fill_alpha\":{\"value\":0.1},\"fill_color\":{\"value\":\"#1f77b4\"},\"line_alpha\":{\"value\":0.1},\"line_color\":{\"value\":\"#1f77b4\"},\"top\":{\"field\":\"top\"},\"width\":{\"value\":0.1575541330663346},\"x\":{\"field\":\"x\"}},\"id\":\"24358\",\"type\":\"VBar\"},{\"attributes\":{},\"id\":\"24910\",\"type\":\"Selection\"},{\"attributes\":{},\"id\":\"24330\",\"type\":\"LinearScale\"},{\"attributes\":{},\"id\":\"24911\",\"type\":\"UnionRenderers\"},{\"attributes\":{},\"id\":\"24328\",\"type\":\"DataRange1d\"},{\"attributes\":{},\"id\":\"24347\",\"type\":\"HelpTool\"},{\"attributes\":{\"active_drag\":\"auto\",\"active_inspect\":\"auto\",\"active_multi\":null,\"active_scroll\":\"auto\",\"active_tap\":\"auto\",\"tools\":[{\"id\":\"24342\"},{\"id\":\"24343\"},{\"id\":\"24344\"},{\"id\":\"24345\"},{\"id\":\"24346\"},{\"id\":\"24347\"}]},\"id\":\"24349\",\"type\":\"Toolbar\"},{\"attributes\":{\"axis\":{\"id\":\"24338\"},\"dimension\":1,\"ticker\":null},\"id\":\"24341\",\"type\":\"Grid\"},{\"attributes\":{\"overlay\":{\"id\":\"24348\"}},\"id\":\"24344\",\"type\":\"BoxZoomTool\"},{\"attributes\":{\"text\":\"A basic histogram\"},\"id\":\"24324\",\"type\":\"Title\"},{\"attributes\":{},\"id\":\"24326\",\"type\":\"DataRange1d\"},{\"attributes\":{},\"id\":\"24346\",\"type\":\"ResetTool\"},{\"attributes\":{\"data\":{\"top\":[1,1,0,2,4,6,12,35,27,62,88,101,106,207,264,305,375,498,609,626,758,824,887,923,942,965,913,886,762,735,667,628,569,506,525,565,520,482,455,364,291,194,148,83,35,25,8,7,2,2],\"x\":{\"__ndarray__\":\"9WW4E+9HD8AkcfFVQwUOwFN8KpiXwgzAgodj2ut/C8CykpwcQD0KwOGd1V6U+gjAEKkOoei3B8BAtEfjPHUGwG6/gCWRMgXAnsq5Z+XvA8DN1fKpOa0CwPzgK+yNagHAK+xkLuInAMC07jvhbMr9vxQFrmUVRfu/chsg6r2/+L/QMZJuZjr2vy5IBPMOtfO/jF52d7cv8b/Y6dD3v1Ttv5QWtQARSui/UEOZCWI/478Y4PokZmncv5A5wzYIVNK/ECYXkVR9wL+AN8FaOmudPxB0xycj2Mc/iGAbgm8B1j+Egym4ZgvgP8xWRa8VFuU/DCphpsQg6j9U/XydcyvvP0poTEoRG/I/6lHaxWig9D+OO2hBwCX3Py4l9rwXq/k/0g6EOG8w/D9y+BG0xrX+PwnxzxePnQBA2+WW1TrgAUCr2l2T5iIDQH3PJFGSZQRATcTrDj6oBUAdubLM6eoGQO+teYqVLQhAv6JASEFwCUCRlwcG7bIKQGGMzsOY9QtAM4GVgUQ4DUADdlw/8HoOQA==\",\"dtype\":\"float64\",\"order\":\"little\",\"shape\":[50]}},\"selected\":{\"id\":\"24910\"},\"selection_policy\":{\"id\":\"24911\"}},\"id\":\"24356\",\"type\":\"ColumnDataSource\"},{\"attributes\":{\"bottom_units\":\"screen\",\"fill_alpha\":0.5,\"fill_color\":\"lightgrey\",\"left_units\":\"screen\",\"level\":\"overlay\",\"line_alpha\":1.0,\"line_color\":\"black\",\"line_dash\":[4,4],\"line_width\":2,\"right_units\":\"screen\",\"top_units\":\"screen\"},\"id\":\"24348\",\"type\":\"BoxAnnotation\"},{\"attributes\":{\"axis\":{\"id\":\"24334\"},\"ticker\":null},\"id\":\"24337\",\"type\":\"Grid\"},{\"attributes\":{},\"id\":\"24335\",\"type\":\"BasicTicker\"},{\"attributes\":{\"axis_label\":\"x\",\"formatter\":{\"id\":\"24909\"},\"ticker\":{\"id\":\"24335\"}},\"id\":\"24334\",\"type\":\"LinearAxis\"},{\"attributes\":{},\"id\":\"24332\",\"type\":\"LinearScale\"},{\"attributes\":{},\"id\":\"24343\",\"type\":\"WheelZoomTool\"},{\"attributes\":{},\"id\":\"24342\",\"type\":\"PanTool\"},{\"attributes\":{},\"id\":\"24339\",\"type\":\"BasicTicker\"},{\"attributes\":{},\"id\":\"24909\",\"type\":\"BasicTickFormatter\"},{\"attributes\":{},\"id\":\"24907\",\"type\":\"BasicTickFormatter\"},{\"attributes\":{},\"id\":\"24345\",\"type\":\"SaveTool\"},{\"attributes\":{\"axis_label\":\"y\",\"formatter\":{\"id\":\"24907\"},\"ticker\":{\"id\":\"24339\"}},\"id\":\"24338\",\"type\":\"LinearAxis\"}],\"root_ids\":[\"24323\"]},\"title\":\"Bokeh Application\",\"version\":\"2.1.1\"}};\n",
       "  var render_items = [{\"docid\":\"de0426d7-b906-42d0-82fa-e6cba5169ac4\",\"root_ids\":[\"24323\"],\"roots\":{\"24323\":\"a6760b21-cde2-4311-84b9-79aeb7471e7e\"}}];\n",
       "  root.Bokeh.embed.embed_items_notebook(docs_json, render_items);\n",
       "\n",
       "  }\n",
       "  if (root.Bokeh !== undefined) {\n",
       "    embed_document(root);\n",
       "  } else {\n",
       "    var attempts = 0;\n",
       "    var timer = setInterval(function(root) {\n",
       "      if (root.Bokeh !== undefined) {\n",
       "        clearInterval(timer);\n",
       "        embed_document(root);\n",
       "      } else {\n",
       "        attempts++;\n",
       "        if (attempts > 100) {\n",
       "          clearInterval(timer);\n",
       "          console.log(\"Bokeh: ERROR: Unable to run BokehJS code because BokehJS library is missing\");\n",
       "        }\n",
       "      }\n",
       "    }, 10, root)\n",
       "  }\n",
       "})(window);"
      ],
      "application/vnd.bokehjs_exec.v0+json": ""
     },
     "metadata": {
      "application/vnd.bokehjs_exec.v0+json": {
       "id": "24323"
      }
     },
     "output_type": "display_data"
    }
   ],
   "source": [
    "plot = bplot.figure(title=\"A basic histogram\", x_axis_label=\"x\", y_axis_label=\"y\")\n",
    "plot.vbar(x=e[0:-1], top=Q, width=e[1] - e[0])\n",
    "bplot.show(plot)"
   ]
  },
  {
   "cell_type": "code",
   "execution_count": 136,
   "metadata": {},
   "outputs": [
    {
     "data": {
      "text/html": [
       "\n",
       "\n",
       "\n",
       "\n",
       "\n",
       "\n",
       "  <div class=\"bk-root\" id=\"920f0c73-a490-4dd2-ae79-327518cd1b49\" data-root-id=\"31896\"></div>\n"
      ]
     },
     "metadata": {},
     "output_type": "display_data"
    },
    {
     "data": {
      "application/javascript": [
       "(function(root) {\n",
       "  function embed_document(root) {\n",
       "    \n",
       "  var docs_json = {\"fee5a931-b1a5-4031-aa34-fdc341e10927\":{\"roots\":{\"references\":[{\"attributes\":{\"below\":[{\"id\":\"31907\"}],\"center\":[{\"id\":\"31910\"},{\"id\":\"31914\"}],\"left\":[{\"id\":\"31911\"}],\"renderers\":[{\"id\":\"31932\"},{\"id\":\"31937\"}],\"title\":{\"id\":\"31897\"},\"toolbar\":{\"id\":\"31922\"},\"x_range\":{\"id\":\"31899\"},\"x_scale\":{\"id\":\"31903\"},\"y_range\":{\"id\":\"31901\"},\"y_scale\":{\"id\":\"31905\"}},\"id\":\"31896\",\"subtype\":\"Figure\",\"type\":\"Plot\"},{\"attributes\":{},\"id\":\"32582\",\"type\":\"Selection\"},{\"attributes\":{\"overlay\":{\"id\":\"31921\"}},\"id\":\"31917\",\"type\":\"BoxZoomTool\"},{\"attributes\":{},\"id\":\"31918\",\"type\":\"SaveTool\"},{\"attributes\":{\"data_source\":{\"id\":\"31934\"},\"glyph\":{\"id\":\"31935\"},\"hover_glyph\":null,\"muted_glyph\":null,\"nonselection_glyph\":{\"id\":\"31936\"},\"selection_glyph\":null,\"view\":{\"id\":\"31938\"}},\"id\":\"31937\",\"type\":\"GlyphRenderer\"},{\"attributes\":{},\"id\":\"32583\",\"type\":\"UnionRenderers\"},{\"attributes\":{},\"id\":\"31919\",\"type\":\"ResetTool\"},{\"attributes\":{\"fill_alpha\":0.1,\"fill_color\":\"#1f77b4\",\"x\":{\"field\":\"x\"},\"y1\":{\"value\":0},\"y2\":{\"field\":\"y2\"}},\"id\":\"31931\",\"type\":\"VArea\"},{\"attributes\":{\"bottom_units\":\"screen\",\"fill_alpha\":0.5,\"fill_color\":\"lightgrey\",\"left_units\":\"screen\",\"level\":\"overlay\",\"line_alpha\":1.0,\"line_color\":\"black\",\"line_dash\":[4,4],\"line_width\":2,\"right_units\":\"screen\",\"top_units\":\"screen\"},\"id\":\"31921\",\"type\":\"BoxAnnotation\"},{\"attributes\":{\"data_source\":{\"id\":\"31929\"},\"glyph\":{\"id\":\"31930\"},\"hover_glyph\":null,\"muted_glyph\":null,\"nonselection_glyph\":{\"id\":\"31931\"},\"selection_glyph\":null,\"view\":{\"id\":\"31933\"}},\"id\":\"31932\",\"type\":\"GlyphRenderer\"},{\"attributes\":{\"active_drag\":\"auto\",\"active_inspect\":\"auto\",\"active_multi\":null,\"active_scroll\":\"auto\",\"active_tap\":\"auto\",\"tools\":[{\"id\":\"31915\"},{\"id\":\"31916\"},{\"id\":\"31917\"},{\"id\":\"31918\"},{\"id\":\"31919\"},{\"id\":\"31920\"}]},\"id\":\"31922\",\"type\":\"Toolbar\"},{\"attributes\":{},\"id\":\"32580\",\"type\":\"Selection\"},{\"attributes\":{},\"id\":\"31899\",\"type\":\"DataRange1d\"},{\"attributes\":{\"axis\":{\"id\":\"31907\"},\"ticker\":null},\"id\":\"31910\",\"type\":\"Grid\"},{\"attributes\":{\"text\":\"A line histogram histogram\"},\"id\":\"31897\",\"type\":\"Title\"},{\"attributes\":{},\"id\":\"31903\",\"type\":\"LinearScale\"},{\"attributes\":{\"line_color\":\"#1f77b4\",\"line_width\":2,\"x\":{\"field\":\"x\"},\"y\":{\"field\":\"y\"}},\"id\":\"31935\",\"type\":\"Line\"},{\"attributes\":{\"line_alpha\":0.1,\"line_color\":\"#1f77b4\",\"line_width\":2,\"x\":{\"field\":\"x\"},\"y\":{\"field\":\"y\"}},\"id\":\"31936\",\"type\":\"Line\"},{\"attributes\":{},\"id\":\"31908\",\"type\":\"BasicTicker\"},{\"attributes\":{\"axis_label\":\"x\",\"formatter\":{\"id\":\"32579\"},\"ticker\":{\"id\":\"31908\"}},\"id\":\"31907\",\"type\":\"LinearAxis\"},{\"attributes\":{},\"id\":\"31916\",\"type\":\"WheelZoomTool\"},{\"attributes\":{\"data\":{\"x\":{\"__ndarray__\":\"9WW4E+9HD8AkcfFVQwUOwFN8KpiXwgzAgodj2ut/C8CykpwcQD0KwOGd1V6U+gjAEKkOoei3B8BAtEfjPHUGwG6/gCWRMgXAnsq5Z+XvA8DN1fKpOa0CwPzgK+yNagHAK+xkLuInAMC07jvhbMr9vxQFrmUVRfu/chsg6r2/+L/QMZJuZjr2vy5IBPMOtfO/jF52d7cv8b/Y6dD3v1Ttv5QWtQARSui/UEOZCWI/478Y4PokZmncv5A5wzYIVNK/ECYXkVR9wL+AN8FaOmudPxB0xycj2Mc/iGAbgm8B1j+Egym4ZgvgP8xWRa8VFuU/DCphpsQg6j9U/XydcyvvP0poTEoRG/I/6lHaxWig9D+OO2hBwCX3Py4l9rwXq/k/0g6EOG8w/D9y+BG0xrX+PwnxzxePnQBA2+WW1TrgAUCr2l2T5iIDQH3PJFGSZQRATcTrDj6oBUAdubLM6eoGQO+teYqVLQhAv6JASEFwCUCRlwcG7bIKQGGMzsOY9QtAM4GVgUQ4DUADdlw/8HoOQA==\",\"dtype\":\"float64\",\"order\":\"little\",\"shape\":[50]},\"y2\":[1,1,0,2,4,6,12,35,27,62,88,101,106,207,264,305,375,498,609,626,758,824,887,923,942,965,913,886,762,735,667,628,569,506,525,565,520,482,455,364,291,194,148,83,35,25,8,7,2,2]},\"selected\":{\"id\":\"32580\"},\"selection_policy\":{\"id\":\"32581\"}},\"id\":\"31929\",\"type\":\"ColumnDataSource\"},{\"attributes\":{},\"id\":\"31912\",\"type\":\"BasicTicker\"},{\"attributes\":{},\"id\":\"32579\",\"type\":\"BasicTickFormatter\"},{\"attributes\":{\"axis_label\":\"y\",\"formatter\":{\"id\":\"32577\"},\"ticker\":{\"id\":\"31912\"}},\"id\":\"31911\",\"type\":\"LinearAxis\"},{\"attributes\":{},\"id\":\"32581\",\"type\":\"UnionRenderers\"},{\"attributes\":{\"axis\":{\"id\":\"31911\"},\"dimension\":1,\"ticker\":null},\"id\":\"31914\",\"type\":\"Grid\"},{\"attributes\":{},\"id\":\"32577\",\"type\":\"BasicTickFormatter\"},{\"attributes\":{\"source\":{\"id\":\"31929\"}},\"id\":\"31933\",\"type\":\"CDSView\"},{\"attributes\":{\"fill_alpha\":0.3,\"fill_color\":\"#1f77b4\",\"x\":{\"field\":\"x\"},\"y1\":{\"value\":0},\"y2\":{\"field\":\"y2\"}},\"id\":\"31930\",\"type\":\"VArea\"},{\"attributes\":{},\"id\":\"31905\",\"type\":\"LinearScale\"},{\"attributes\":{},\"id\":\"31915\",\"type\":\"PanTool\"},{\"attributes\":{},\"id\":\"31920\",\"type\":\"HelpTool\"},{\"attributes\":{},\"id\":\"31901\",\"type\":\"DataRange1d\"},{\"attributes\":{\"source\":{\"id\":\"31934\"}},\"id\":\"31938\",\"type\":\"CDSView\"},{\"attributes\":{\"data\":{\"x\":{\"__ndarray__\":\"9WW4E+9HD8AkcfFVQwUOwFN8KpiXwgzAgodj2ut/C8CykpwcQD0KwOGd1V6U+gjAEKkOoei3B8BAtEfjPHUGwG6/gCWRMgXAnsq5Z+XvA8DN1fKpOa0CwPzgK+yNagHAK+xkLuInAMC07jvhbMr9vxQFrmUVRfu/chsg6r2/+L/QMZJuZjr2vy5IBPMOtfO/jF52d7cv8b/Y6dD3v1Ttv5QWtQARSui/UEOZCWI/478Y4PokZmncv5A5wzYIVNK/ECYXkVR9wL+AN8FaOmudPxB0xycj2Mc/iGAbgm8B1j+Egym4ZgvgP8xWRa8VFuU/DCphpsQg6j9U/XydcyvvP0poTEoRG/I/6lHaxWig9D+OO2hBwCX3Py4l9rwXq/k/0g6EOG8w/D9y+BG0xrX+PwnxzxePnQBA2+WW1TrgAUCr2l2T5iIDQH3PJFGSZQRATcTrDj6oBUAdubLM6eoGQO+teYqVLQhAv6JASEFwCUCRlwcG7bIKQGGMzsOY9QtAM4GVgUQ4DUADdlw/8HoOQA==\",\"dtype\":\"float64\",\"order\":\"little\",\"shape\":[50]},\"y\":[1,1,0,2,4,6,12,35,27,62,88,101,106,207,264,305,375,498,609,626,758,824,887,923,942,965,913,886,762,735,667,628,569,506,525,565,520,482,455,364,291,194,148,83,35,25,8,7,2,2]},\"selected\":{\"id\":\"32582\"},\"selection_policy\":{\"id\":\"32583\"}},\"id\":\"31934\",\"type\":\"ColumnDataSource\"}],\"root_ids\":[\"31896\"]},\"title\":\"Bokeh Application\",\"version\":\"2.1.1\"}};\n",
       "  var render_items = [{\"docid\":\"fee5a931-b1a5-4031-aa34-fdc341e10927\",\"root_ids\":[\"31896\"],\"roots\":{\"31896\":\"920f0c73-a490-4dd2-ae79-327518cd1b49\"}}];\n",
       "  root.Bokeh.embed.embed_items_notebook(docs_json, render_items);\n",
       "\n",
       "  }\n",
       "  if (root.Bokeh !== undefined) {\n",
       "    embed_document(root);\n",
       "  } else {\n",
       "    var attempts = 0;\n",
       "    var timer = setInterval(function(root) {\n",
       "      if (root.Bokeh !== undefined) {\n",
       "        clearInterval(timer);\n",
       "        embed_document(root);\n",
       "      } else {\n",
       "        attempts++;\n",
       "        if (attempts > 100) {\n",
       "          clearInterval(timer);\n",
       "          console.log(\"Bokeh: ERROR: Unable to run BokehJS code because BokehJS library is missing\");\n",
       "        }\n",
       "      }\n",
       "    }, 10, root)\n",
       "  }\n",
       "})(window);"
      ],
      "application/vnd.bokehjs_exec.v0+json": ""
     },
     "metadata": {
      "application/vnd.bokehjs_exec.v0+json": {
       "id": "31896"
      }
     },
     "output_type": "display_data"
    }
   ],
   "source": [
    "plot = bplot.figure(title=\"A line histogram histogram\", x_axis_label=\"x\", y_axis_label=\"y\")\n",
    "plot.varea(\n",
    "    x=e[0:-1],\n",
    "    y1=0,\n",
    "    y2=Q,\n",
    "    fill_alpha=0.3\n",
    ")\n",
    "plot.line(\n",
    "    x=e[0:-1],\n",
    "    y=Q,\n",
    "    line_width=2\n",
    ")\n",
    "bplot.show(plot)"
   ]
  },
  {
   "cell_type": "code",
   "execution_count": 143,
   "metadata": {},
   "outputs": [
    {
     "data": {
      "text/html": [
       "\n",
       "\n",
       "\n",
       "\n",
       "\n",
       "\n",
       "  <div class=\"bk-root\" id=\"bf567add-75bd-4e01-a365-cbb6057fff58\" data-root-id=\"32645\"></div>\n"
      ]
     },
     "metadata": {},
     "output_type": "display_data"
    },
    {
     "data": {
      "application/javascript": [
       "(function(root) {\n",
       "  function embed_document(root) {\n",
       "    \n",
       "  var docs_json = {\"d2cc44d4-0f15-4602-b233-e0e29e2aecbb\":{\"roots\":{\"references\":[{\"attributes\":{\"below\":[{\"id\":\"32656\"}],\"center\":[{\"id\":\"32659\"},{\"id\":\"32663\"}],\"left\":[{\"id\":\"32660\"}],\"renderers\":[{\"id\":\"32681\"},{\"id\":\"32686\"}],\"title\":{\"id\":\"32646\"},\"toolbar\":{\"id\":\"32671\"},\"x_range\":{\"id\":\"32648\"},\"x_scale\":{\"id\":\"32652\"},\"y_range\":{\"id\":\"32650\"},\"y_scale\":{\"id\":\"32654\"}},\"id\":\"32645\",\"subtype\":\"Figure\",\"type\":\"Plot\"},{\"attributes\":{},\"id\":\"32661\",\"type\":\"BasicTicker\"},{\"attributes\":{\"fill_alpha\":0.1,\"fill_color\":\"#1f77b4\",\"x\":{\"field\":\"x\"},\"y1\":{\"value\":0},\"y2\":{\"field\":\"y2\"}},\"id\":\"32680\",\"type\":\"VArea\"},{\"attributes\":{\"axis\":{\"id\":\"32660\"},\"dimension\":1,\"ticker\":null},\"id\":\"32663\",\"type\":\"Grid\"},{\"attributes\":{\"source\":{\"id\":\"32683\"}},\"id\":\"32687\",\"type\":\"CDSView\"},{\"attributes\":{\"line_color\":\"#1f77b4\",\"line_width\":2,\"x\":{\"field\":\"x\"},\"y\":{\"field\":\"y\"}},\"id\":\"32684\",\"type\":\"Line\"},{\"attributes\":{},\"id\":\"33342\",\"type\":\"UnionRenderers\"},{\"attributes\":{},\"id\":\"32664\",\"type\":\"PanTool\"},{\"attributes\":{},\"id\":\"33340\",\"type\":\"UnionRenderers\"},{\"attributes\":{\"source\":{\"id\":\"32678\"}},\"id\":\"32682\",\"type\":\"CDSView\"},{\"attributes\":{},\"id\":\"32665\",\"type\":\"WheelZoomTool\"},{\"attributes\":{},\"id\":\"33341\",\"type\":\"Selection\"},{\"attributes\":{},\"id\":\"33336\",\"type\":\"BasicTickFormatter\"},{\"attributes\":{},\"id\":\"32667\",\"type\":\"SaveTool\"},{\"attributes\":{\"data\":{\"x\":{\"__ndarray__\":\"9WW4E+9HD8AkcfFVQwUOwFN8KpiXwgzAgodj2ut/C8CykpwcQD0KwOGd1V6U+gjAEKkOoei3B8BAtEfjPHUGwG6/gCWRMgXAnsq5Z+XvA8DN1fKpOa0CwPzgK+yNagHAK+xkLuInAMC07jvhbMr9vxQFrmUVRfu/chsg6r2/+L/QMZJuZjr2vy5IBPMOtfO/jF52d7cv8b/Y6dD3v1Ttv5QWtQARSui/UEOZCWI/478Y4PokZmncv5A5wzYIVNK/ECYXkVR9wL+AN8FaOmudPxB0xycj2Mc/iGAbgm8B1j+Egym4ZgvgP8xWRa8VFuU/DCphpsQg6j9U/XydcyvvP0poTEoRG/I/6lHaxWig9D+OO2hBwCX3Py4l9rwXq/k/0g6EOG8w/D9y+BG0xrX+PwnxzxePnQBA2+WW1TrgAUCr2l2T5iIDQH3PJFGSZQRATcTrDj6oBUAdubLM6eoGQO+teYqVLQhAv6JASEFwCUCRlwcG7bIKQGGMzsOY9QtAM4GVgUQ4DUADdlw/8HoOQA==\",\"dtype\":\"float64\",\"order\":\"little\",\"shape\":[50]},\"y2\":{\"__ndarray__\":\"Bcs3flm0+T94qycnBAn+PxeJf5Bb+ANAaq8J0m5+FUBbs+t82fMkQIomjdE+tjRA1qyLUxWIRED0bqky4fZQQA33R/d811hAo48lEQPFYkAkrH+gpptpQI2e0PZO4m9AkQoAADFHdUBo2mKszGV+QDN4Eqge/YNAKMjVL+CfiEACAvvZiKGOQL+o1RNLE5NAZfJAJU2QlkDo0suhKYiZQO85oWK5v5xACI8JWIK9n0C2ZqirWwGhQOfYQTbrxKFATNmYf3c1okAUOm8u3z2iQP13u2GZtKFAk3A4hgSooEDK4WJUEJyeQL2wxgyFOpxA+qhLiFQnmkDusvfufSaYQPhmmm+AKJZABVcBhv/LlEDPZ9fY5aeUQLcojqgk0pRAvFSkKqoelEA+b88fYLySQLwVbQSH15BA+qVtDqtfjECuD4oHaTiGQM2M9zoYRoBAlhojfw2CdkBD+fjwRfRrQCWA4gKHZ15AcUwsP2ihT0DIeOInTDVAQEREbe0nuDBAn7R2AjoVIUDnye0SQqQQQA==\",\"dtype\":\"float64\",\"order\":\"little\",\"shape\":[50]}},\"selected\":{\"id\":\"33339\"},\"selection_policy\":{\"id\":\"33340\"}},\"id\":\"32678\",\"type\":\"ColumnDataSource\"},{\"attributes\":{},\"id\":\"32668\",\"type\":\"ResetTool\"},{\"attributes\":{\"data\":{\"x\":{\"__ndarray__\":\"9WW4E+9HD8AkcfFVQwUOwFN8KpiXwgzAgodj2ut/C8CykpwcQD0KwOGd1V6U+gjAEKkOoei3B8BAtEfjPHUGwG6/gCWRMgXAnsq5Z+XvA8DN1fKpOa0CwPzgK+yNagHAK+xkLuInAMC07jvhbMr9vxQFrmUVRfu/chsg6r2/+L/QMZJuZjr2vy5IBPMOtfO/jF52d7cv8b/Y6dD3v1Ttv5QWtQARSui/UEOZCWI/478Y4PokZmncv5A5wzYIVNK/ECYXkVR9wL+AN8FaOmudPxB0xycj2Mc/iGAbgm8B1j+Egym4ZgvgP8xWRa8VFuU/DCphpsQg6j9U/XydcyvvP0poTEoRG/I/6lHaxWig9D+OO2hBwCX3Py4l9rwXq/k/0g6EOG8w/D9y+BG0xrX+PwnxzxePnQBA2+WW1TrgAUCr2l2T5iIDQH3PJFGSZQRATcTrDj6oBUAdubLM6eoGQO+teYqVLQhAv6JASEFwCUCRlwcG7bIKQGGMzsOY9QtAM4GVgUQ4DUADdlw/8HoOQA==\",\"dtype\":\"float64\",\"order\":\"little\",\"shape\":[50]},\"y\":{\"__ndarray__\":\"Bcs3flm0+T94qycnBAn+PxeJf5Bb+ANAaq8J0m5+FUBbs+t82fMkQIomjdE+tjRA1qyLUxWIRED0bqky4fZQQA33R/d811hAo48lEQPFYkAkrH+gpptpQI2e0PZO4m9AkQoAADFHdUBo2mKszGV+QDN4Eqge/YNAKMjVL+CfiEACAvvZiKGOQL+o1RNLE5NAZfJAJU2QlkDo0suhKYiZQO85oWK5v5xACI8JWIK9n0C2ZqirWwGhQOfYQTbrxKFATNmYf3c1okAUOm8u3z2iQP13u2GZtKFAk3A4hgSooEDK4WJUEJyeQL2wxgyFOpxA+qhLiFQnmkDusvfufSaYQPhmmm+AKJZABVcBhv/LlEDPZ9fY5aeUQLcojqgk0pRAvFSkKqoelEA+b88fYLySQLwVbQSH15BA+qVtDqtfjECuD4oHaTiGQM2M9zoYRoBAlhojfw2CdkBD+fjwRfRrQCWA4gKHZ15AcUwsP2ihT0DIeOInTDVAQEREbe0nuDBAn7R2AjoVIUDnye0SQqQQQA==\",\"dtype\":\"float64\",\"order\":\"little\",\"shape\":[50]}},\"selected\":{\"id\":\"33341\"},\"selection_policy\":{\"id\":\"33342\"}},\"id\":\"32683\",\"type\":\"ColumnDataSource\"},{\"attributes\":{\"overlay\":{\"id\":\"32670\"}},\"id\":\"32666\",\"type\":\"BoxZoomTool\"},{\"attributes\":{},\"id\":\"32669\",\"type\":\"HelpTool\"},{\"attributes\":{\"text\":\"A line histogram histogram\"},\"id\":\"32646\",\"type\":\"Title\"},{\"attributes\":{\"data_source\":{\"id\":\"32678\"},\"glyph\":{\"id\":\"32679\"},\"hover_glyph\":null,\"muted_glyph\":null,\"nonselection_glyph\":{\"id\":\"32680\"},\"selection_glyph\":null,\"view\":{\"id\":\"32682\"}},\"id\":\"32681\",\"type\":\"GlyphRenderer\"},{\"attributes\":{},\"id\":\"33338\",\"type\":\"BasicTickFormatter\"},{\"attributes\":{\"axis_label\":\"y\",\"formatter\":{\"id\":\"33336\"},\"ticker\":{\"id\":\"32661\"}},\"id\":\"32660\",\"type\":\"LinearAxis\"},{\"attributes\":{},\"id\":\"32650\",\"type\":\"DataRange1d\"},{\"attributes\":{},\"id\":\"32652\",\"type\":\"LinearScale\"},{\"attributes\":{\"active_drag\":\"auto\",\"active_inspect\":\"auto\",\"active_multi\":null,\"active_scroll\":\"auto\",\"active_tap\":\"auto\",\"tools\":[{\"id\":\"32664\"},{\"id\":\"32665\"},{\"id\":\"32666\"},{\"id\":\"32667\"},{\"id\":\"32668\"},{\"id\":\"32669\"}]},\"id\":\"32671\",\"type\":\"Toolbar\"},{\"attributes\":{\"bottom_units\":\"screen\",\"fill_alpha\":0.5,\"fill_color\":\"lightgrey\",\"left_units\":\"screen\",\"level\":\"overlay\",\"line_alpha\":1.0,\"line_color\":\"black\",\"line_dash\":[4,4],\"line_width\":2,\"right_units\":\"screen\",\"top_units\":\"screen\"},\"id\":\"32670\",\"type\":\"BoxAnnotation\"},{\"attributes\":{},\"id\":\"32654\",\"type\":\"LinearScale\"},{\"attributes\":{},\"id\":\"32648\",\"type\":\"DataRange1d\"},{\"attributes\":{},\"id\":\"33339\",\"type\":\"Selection\"},{\"attributes\":{\"axis_label\":\"x\",\"formatter\":{\"id\":\"33338\"},\"ticker\":{\"id\":\"32657\"}},\"id\":\"32656\",\"type\":\"LinearAxis\"},{\"attributes\":{\"fill_alpha\":0.3,\"fill_color\":\"#1f77b4\",\"x\":{\"field\":\"x\"},\"y1\":{\"value\":0},\"y2\":{\"field\":\"y2\"}},\"id\":\"32679\",\"type\":\"VArea\"},{\"attributes\":{},\"id\":\"32657\",\"type\":\"BasicTicker\"},{\"attributes\":{\"data_source\":{\"id\":\"32683\"},\"glyph\":{\"id\":\"32684\"},\"hover_glyph\":null,\"muted_glyph\":null,\"nonselection_glyph\":{\"id\":\"32685\"},\"selection_glyph\":null,\"view\":{\"id\":\"32687\"}},\"id\":\"32686\",\"type\":\"GlyphRenderer\"},{\"attributes\":{\"axis\":{\"id\":\"32656\"},\"ticker\":null},\"id\":\"32659\",\"type\":\"Grid\"},{\"attributes\":{\"line_alpha\":0.1,\"line_color\":\"#1f77b4\",\"line_width\":2,\"x\":{\"field\":\"x\"},\"y\":{\"field\":\"y\"}},\"id\":\"32685\",\"type\":\"Line\"}],\"root_ids\":[\"32645\"]},\"title\":\"Bokeh Application\",\"version\":\"2.1.1\"}};\n",
       "  var render_items = [{\"docid\":\"d2cc44d4-0f15-4602-b233-e0e29e2aecbb\",\"root_ids\":[\"32645\"],\"roots\":{\"32645\":\"bf567add-75bd-4e01-a365-cbb6057fff58\"}}];\n",
       "  root.Bokeh.embed.embed_items_notebook(docs_json, render_items);\n",
       "\n",
       "  }\n",
       "  if (root.Bokeh !== undefined) {\n",
       "    embed_document(root);\n",
       "  } else {\n",
       "    var attempts = 0;\n",
       "    var timer = setInterval(function(root) {\n",
       "      if (root.Bokeh !== undefined) {\n",
       "        clearInterval(timer);\n",
       "        embed_document(root);\n",
       "      } else {\n",
       "        attempts++;\n",
       "        if (attempts > 100) {\n",
       "          clearInterval(timer);\n",
       "          console.log(\"Bokeh: ERROR: Unable to run BokehJS code because BokehJS library is missing\");\n",
       "        }\n",
       "      }\n",
       "    }, 10, root)\n",
       "  }\n",
       "})(window);"
      ],
      "application/vnd.bokehjs_exec.v0+json": ""
     },
     "metadata": {
      "application/vnd.bokehjs_exec.v0+json": {
       "id": "32645"
      }
     },
     "output_type": "display_data"
    }
   ],
   "source": [
    "import scipy.signal\n",
    "kernel = scipy.signal.gaussian(5, 1)\n",
    "qq = scipy.convolve(Q, kernel, mode=\"same\")\n",
    "plot = bplot.figure(title=\"A line histogram histogram\", x_axis_label=\"x\", y_axis_label=\"y\")\n",
    "plot.varea(\n",
    "    x=e[0:-1],\n",
    "    y1=0,\n",
    "    y2=qq,\n",
    "    fill_alpha=0.3\n",
    ")\n",
    "plot.line(\n",
    "    x=e[0:-1],\n",
    "    y=qq,\n",
    "    line_width=2\n",
    ")\n",
    "bplot.show(plot)"
   ]
  },
  {
   "cell_type": "code",
   "execution_count": null,
   "metadata": {},
   "outputs": [],
   "source": []
  }
 ],
 "metadata": {
  "kernelspec": {
   "display_name": "Python 3",
   "language": "python",
   "name": "python3"
  },
  "language_info": {
   "codemirror_mode": {
    "name": "ipython",
    "version": 3
   },
   "file_extension": ".py",
   "mimetype": "text/x-python",
   "name": "python",
   "nbconvert_exporter": "python",
   "pygments_lexer": "ipython3",
   "version": "3.7.2"
  }
 },
 "nbformat": 4,
 "nbformat_minor": 4
}
