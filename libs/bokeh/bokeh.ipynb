{
 "cells": [
  {
   "cell_type": "markdown",
   "metadata": {},
   "source": [
    "# Bokeh plots\n",
    "\n",
    "(Don't make the title Bokeh or it'll break Bokeh. No, really.)"
   ]
  },
  {
   "cell_type": "code",
   "execution_count": 1,
   "metadata": {},
   "outputs": [
    {
     "data": {
      "text/html": [
       "\n",
       "    <div class=\"bk-root\">\n",
       "        <a href=\"https://bokeh.org\" target=\"_blank\" class=\"bk-logo bk-logo-small bk-logo-notebook\"></a>\n",
       "        <span id=\"1001\">Loading BokehJS ...</span>\n",
       "    </div>"
      ]
     },
     "metadata": {},
     "output_type": "display_data"
    },
    {
     "data": {
      "application/javascript": [
       "\n",
       "(function(root) {\n",
       "  function now() {\n",
       "    return new Date();\n",
       "  }\n",
       "\n",
       "  var force = true;\n",
       "\n",
       "  if (typeof root._bokeh_onload_callbacks === \"undefined\" || force === true) {\n",
       "    root._bokeh_onload_callbacks = [];\n",
       "    root._bokeh_is_loading = undefined;\n",
       "  }\n",
       "\n",
       "  var JS_MIME_TYPE = 'application/javascript';\n",
       "  var HTML_MIME_TYPE = 'text/html';\n",
       "  var EXEC_MIME_TYPE = 'application/vnd.bokehjs_exec.v0+json';\n",
       "  var CLASS_NAME = 'output_bokeh rendered_html';\n",
       "\n",
       "  /**\n",
       "   * Render data to the DOM node\n",
       "   */\n",
       "  function render(props, node) {\n",
       "    var script = document.createElement(\"script\");\n",
       "    node.appendChild(script);\n",
       "  }\n",
       "\n",
       "  /**\n",
       "   * Handle when an output is cleared or removed\n",
       "   */\n",
       "  function handleClearOutput(event, handle) {\n",
       "    var cell = handle.cell;\n",
       "\n",
       "    var id = cell.output_area._bokeh_element_id;\n",
       "    var server_id = cell.output_area._bokeh_server_id;\n",
       "    // Clean up Bokeh references\n",
       "    if (id != null && id in Bokeh.index) {\n",
       "      Bokeh.index[id].model.document.clear();\n",
       "      delete Bokeh.index[id];\n",
       "    }\n",
       "\n",
       "    if (server_id !== undefined) {\n",
       "      // Clean up Bokeh references\n",
       "      var cmd = \"from bokeh.io.state import curstate; print(curstate().uuid_to_server['\" + server_id + \"'].get_sessions()[0].document.roots[0]._id)\";\n",
       "      cell.notebook.kernel.execute(cmd, {\n",
       "        iopub: {\n",
       "          output: function(msg) {\n",
       "            var id = msg.content.text.trim();\n",
       "            if (id in Bokeh.index) {\n",
       "              Bokeh.index[id].model.document.clear();\n",
       "              delete Bokeh.index[id];\n",
       "            }\n",
       "          }\n",
       "        }\n",
       "      });\n",
       "      // Destroy server and session\n",
       "      var cmd = \"import bokeh.io.notebook as ion; ion.destroy_server('\" + server_id + \"')\";\n",
       "      cell.notebook.kernel.execute(cmd);\n",
       "    }\n",
       "  }\n",
       "\n",
       "  /**\n",
       "   * Handle when a new output is added\n",
       "   */\n",
       "  function handleAddOutput(event, handle) {\n",
       "    var output_area = handle.output_area;\n",
       "    var output = handle.output;\n",
       "\n",
       "    // limit handleAddOutput to display_data with EXEC_MIME_TYPE content only\n",
       "    if ((output.output_type != \"display_data\") || (!output.data.hasOwnProperty(EXEC_MIME_TYPE))) {\n",
       "      return\n",
       "    }\n",
       "\n",
       "    var toinsert = output_area.element.find(\".\" + CLASS_NAME.split(' ')[0]);\n",
       "\n",
       "    if (output.metadata[EXEC_MIME_TYPE][\"id\"] !== undefined) {\n",
       "      toinsert[toinsert.length - 1].firstChild.textContent = output.data[JS_MIME_TYPE];\n",
       "      // store reference to embed id on output_area\n",
       "      output_area._bokeh_element_id = output.metadata[EXEC_MIME_TYPE][\"id\"];\n",
       "    }\n",
       "    if (output.metadata[EXEC_MIME_TYPE][\"server_id\"] !== undefined) {\n",
       "      var bk_div = document.createElement(\"div\");\n",
       "      bk_div.innerHTML = output.data[HTML_MIME_TYPE];\n",
       "      var script_attrs = bk_div.children[0].attributes;\n",
       "      for (var i = 0; i < script_attrs.length; i++) {\n",
       "        toinsert[toinsert.length - 1].firstChild.setAttribute(script_attrs[i].name, script_attrs[i].value);\n",
       "        toinsert[toinsert.length - 1].firstChild.textContent = bk_div.children[0].textContent\n",
       "      }\n",
       "      // store reference to server id on output_area\n",
       "      output_area._bokeh_server_id = output.metadata[EXEC_MIME_TYPE][\"server_id\"];\n",
       "    }\n",
       "  }\n",
       "\n",
       "  function register_renderer(events, OutputArea) {\n",
       "\n",
       "    function append_mime(data, metadata, element) {\n",
       "      // create a DOM node to render to\n",
       "      var toinsert = this.create_output_subarea(\n",
       "        metadata,\n",
       "        CLASS_NAME,\n",
       "        EXEC_MIME_TYPE\n",
       "      );\n",
       "      this.keyboard_manager.register_events(toinsert);\n",
       "      // Render to node\n",
       "      var props = {data: data, metadata: metadata[EXEC_MIME_TYPE]};\n",
       "      render(props, toinsert[toinsert.length - 1]);\n",
       "      element.append(toinsert);\n",
       "      return toinsert\n",
       "    }\n",
       "\n",
       "    /* Handle when an output is cleared or removed */\n",
       "    events.on('clear_output.CodeCell', handleClearOutput);\n",
       "    events.on('delete.Cell', handleClearOutput);\n",
       "\n",
       "    /* Handle when a new output is added */\n",
       "    events.on('output_added.OutputArea', handleAddOutput);\n",
       "\n",
       "    /**\n",
       "     * Register the mime type and append_mime function with output_area\n",
       "     */\n",
       "    OutputArea.prototype.register_mime_type(EXEC_MIME_TYPE, append_mime, {\n",
       "      /* Is output safe? */\n",
       "      safe: true,\n",
       "      /* Index of renderer in `output_area.display_order` */\n",
       "      index: 0\n",
       "    });\n",
       "  }\n",
       "\n",
       "  // register the mime type if in Jupyter Notebook environment and previously unregistered\n",
       "  if (root.Jupyter !== undefined) {\n",
       "    var events = require('base/js/events');\n",
       "    var OutputArea = require('notebook/js/outputarea').OutputArea;\n",
       "\n",
       "    if (OutputArea.prototype.mime_types().indexOf(EXEC_MIME_TYPE) == -1) {\n",
       "      register_renderer(events, OutputArea);\n",
       "    }\n",
       "  }\n",
       "\n",
       "  \n",
       "  if (typeof (root._bokeh_timeout) === \"undefined\" || force === true) {\n",
       "    root._bokeh_timeout = Date.now() + 5000;\n",
       "    root._bokeh_failed_load = false;\n",
       "  }\n",
       "\n",
       "  var NB_LOAD_WARNING = {'data': {'text/html':\n",
       "     \"<div style='background-color: #fdd'>\\n\"+\n",
       "     \"<p>\\n\"+\n",
       "     \"BokehJS does not appear to have successfully loaded. If loading BokehJS from CDN, this \\n\"+\n",
       "     \"may be due to a slow or bad network connection. Possible fixes:\\n\"+\n",
       "     \"</p>\\n\"+\n",
       "     \"<ul>\\n\"+\n",
       "     \"<li>re-rerun `output_notebook()` to attempt to load from CDN again, or</li>\\n\"+\n",
       "     \"<li>use INLINE resources instead, as so:</li>\\n\"+\n",
       "     \"</ul>\\n\"+\n",
       "     \"<code>\\n\"+\n",
       "     \"from bokeh.resources import INLINE\\n\"+\n",
       "     \"output_notebook(resources=INLINE)\\n\"+\n",
       "     \"</code>\\n\"+\n",
       "     \"</div>\"}};\n",
       "\n",
       "  function display_loaded() {\n",
       "    var el = document.getElementById(\"1001\");\n",
       "    if (el != null) {\n",
       "      el.textContent = \"BokehJS is loading...\";\n",
       "    }\n",
       "    if (root.Bokeh !== undefined) {\n",
       "      if (el != null) {\n",
       "        el.textContent = \"BokehJS \" + root.Bokeh.version + \" successfully loaded.\";\n",
       "      }\n",
       "    } else if (Date.now() < root._bokeh_timeout) {\n",
       "      setTimeout(display_loaded, 100)\n",
       "    }\n",
       "  }\n",
       "\n",
       "\n",
       "  function run_callbacks() {\n",
       "    try {\n",
       "      root._bokeh_onload_callbacks.forEach(function(callback) {\n",
       "        if (callback != null)\n",
       "          callback();\n",
       "      });\n",
       "    } finally {\n",
       "      delete root._bokeh_onload_callbacks\n",
       "    }\n",
       "    console.debug(\"Bokeh: all callbacks have finished\");\n",
       "  }\n",
       "\n",
       "  function load_libs(css_urls, js_urls, callback) {\n",
       "    if (css_urls == null) css_urls = [];\n",
       "    if (js_urls == null) js_urls = [];\n",
       "\n",
       "    root._bokeh_onload_callbacks.push(callback);\n",
       "    if (root._bokeh_is_loading > 0) {\n",
       "      console.debug(\"Bokeh: BokehJS is being loaded, scheduling callback at\", now());\n",
       "      return null;\n",
       "    }\n",
       "    if (js_urls == null || js_urls.length === 0) {\n",
       "      run_callbacks();\n",
       "      return null;\n",
       "    }\n",
       "    console.debug(\"Bokeh: BokehJS not loaded, scheduling load and callback at\", now());\n",
       "    root._bokeh_is_loading = css_urls.length + js_urls.length;\n",
       "\n",
       "    function on_load() {\n",
       "      root._bokeh_is_loading--;\n",
       "      if (root._bokeh_is_loading === 0) {\n",
       "        console.debug(\"Bokeh: all BokehJS libraries/stylesheets loaded\");\n",
       "        run_callbacks()\n",
       "      }\n",
       "    }\n",
       "\n",
       "    function on_error() {\n",
       "      console.error(\"failed to load \" + url);\n",
       "    }\n",
       "\n",
       "    for (var i = 0; i < css_urls.length; i++) {\n",
       "      var url = css_urls[i];\n",
       "      const element = document.createElement(\"link\");\n",
       "      element.onload = on_load;\n",
       "      element.onerror = on_error;\n",
       "      element.rel = \"stylesheet\";\n",
       "      element.type = \"text/css\";\n",
       "      element.href = url;\n",
       "      console.debug(\"Bokeh: injecting link tag for BokehJS stylesheet: \", url);\n",
       "      document.body.appendChild(element);\n",
       "    }\n",
       "\n",
       "    const hashes = {\"https://cdn.bokeh.org/bokeh/release/bokeh-2.2.3.min.js\": \"T2yuo9Oe71Cz/I4X9Ac5+gpEa5a8PpJCDlqKYO0CfAuEszu1JrXLl8YugMqYe3sM\", \"https://cdn.bokeh.org/bokeh/release/bokeh-widgets-2.2.3.min.js\": \"98GDGJ0kOMCUMUePhksaQ/GYgB3+NH9h996V88sh3aOiUNX3N+fLXAtry6xctSZ6\", \"https://cdn.bokeh.org/bokeh/release/bokeh-tables-2.2.3.min.js\": \"89bArO+nlbP3sgakeHjCo1JYxYR5wufVgA3IbUvDY+K7w4zyxJqssu7wVnfeKCq8\"};\n",
       "\n",
       "    for (var i = 0; i < js_urls.length; i++) {\n",
       "      var url = js_urls[i];\n",
       "      var element = document.createElement('script');\n",
       "      element.onload = on_load;\n",
       "      element.onerror = on_error;\n",
       "      element.async = false;\n",
       "      element.src = url;\n",
       "      if (url in hashes) {\n",
       "        element.crossOrigin = \"anonymous\";\n",
       "        element.integrity = \"sha384-\" + hashes[url];\n",
       "      }\n",
       "      console.debug(\"Bokeh: injecting script tag for BokehJS library: \", url);\n",
       "      document.head.appendChild(element);\n",
       "    }\n",
       "  };\n",
       "\n",
       "  function inject_raw_css(css) {\n",
       "    const element = document.createElement(\"style\");\n",
       "    element.appendChild(document.createTextNode(css));\n",
       "    document.body.appendChild(element);\n",
       "  }\n",
       "\n",
       "  \n",
       "  var js_urls = [\"https://cdn.bokeh.org/bokeh/release/bokeh-2.2.3.min.js\", \"https://cdn.bokeh.org/bokeh/release/bokeh-widgets-2.2.3.min.js\", \"https://cdn.bokeh.org/bokeh/release/bokeh-tables-2.2.3.min.js\"];\n",
       "  var css_urls = [];\n",
       "  \n",
       "\n",
       "  var inline_js = [\n",
       "    function(Bokeh) {\n",
       "      Bokeh.set_log_level(\"info\");\n",
       "    },\n",
       "    function(Bokeh) {\n",
       "    \n",
       "    \n",
       "    }\n",
       "  ];\n",
       "\n",
       "  function run_inline_js() {\n",
       "    \n",
       "    if (root.Bokeh !== undefined || force === true) {\n",
       "      \n",
       "    for (var i = 0; i < inline_js.length; i++) {\n",
       "      inline_js[i].call(root, root.Bokeh);\n",
       "    }\n",
       "    if (force === true) {\n",
       "        display_loaded();\n",
       "      }} else if (Date.now() < root._bokeh_timeout) {\n",
       "      setTimeout(run_inline_js, 100);\n",
       "    } else if (!root._bokeh_failed_load) {\n",
       "      console.log(\"Bokeh: BokehJS failed to load within specified timeout.\");\n",
       "      root._bokeh_failed_load = true;\n",
       "    } else if (force !== true) {\n",
       "      var cell = $(document.getElementById(\"1001\")).parents('.cell').data().cell;\n",
       "      cell.output_area.append_execute_result(NB_LOAD_WARNING)\n",
       "    }\n",
       "\n",
       "  }\n",
       "\n",
       "  if (root._bokeh_is_loading === 0) {\n",
       "    console.debug(\"Bokeh: BokehJS loaded, going straight to plotting\");\n",
       "    run_inline_js();\n",
       "  } else {\n",
       "    load_libs(css_urls, js_urls, function() {\n",
       "      console.debug(\"Bokeh: BokehJS plotting callback run at\", now());\n",
       "      run_inline_js();\n",
       "    });\n",
       "  }\n",
       "}(window));"
      ],
      "application/vnd.bokehjs_load.v0+json": "\n(function(root) {\n  function now() {\n    return new Date();\n  }\n\n  var force = true;\n\n  if (typeof root._bokeh_onload_callbacks === \"undefined\" || force === true) {\n    root._bokeh_onload_callbacks = [];\n    root._bokeh_is_loading = undefined;\n  }\n\n  \n\n  \n  if (typeof (root._bokeh_timeout) === \"undefined\" || force === true) {\n    root._bokeh_timeout = Date.now() + 5000;\n    root._bokeh_failed_load = false;\n  }\n\n  var NB_LOAD_WARNING = {'data': {'text/html':\n     \"<div style='background-color: #fdd'>\\n\"+\n     \"<p>\\n\"+\n     \"BokehJS does not appear to have successfully loaded. If loading BokehJS from CDN, this \\n\"+\n     \"may be due to a slow or bad network connection. Possible fixes:\\n\"+\n     \"</p>\\n\"+\n     \"<ul>\\n\"+\n     \"<li>re-rerun `output_notebook()` to attempt to load from CDN again, or</li>\\n\"+\n     \"<li>use INLINE resources instead, as so:</li>\\n\"+\n     \"</ul>\\n\"+\n     \"<code>\\n\"+\n     \"from bokeh.resources import INLINE\\n\"+\n     \"output_notebook(resources=INLINE)\\n\"+\n     \"</code>\\n\"+\n     \"</div>\"}};\n\n  function display_loaded() {\n    var el = document.getElementById(\"1001\");\n    if (el != null) {\n      el.textContent = \"BokehJS is loading...\";\n    }\n    if (root.Bokeh !== undefined) {\n      if (el != null) {\n        el.textContent = \"BokehJS \" + root.Bokeh.version + \" successfully loaded.\";\n      }\n    } else if (Date.now() < root._bokeh_timeout) {\n      setTimeout(display_loaded, 100)\n    }\n  }\n\n\n  function run_callbacks() {\n    try {\n      root._bokeh_onload_callbacks.forEach(function(callback) {\n        if (callback != null)\n          callback();\n      });\n    } finally {\n      delete root._bokeh_onload_callbacks\n    }\n    console.debug(\"Bokeh: all callbacks have finished\");\n  }\n\n  function load_libs(css_urls, js_urls, callback) {\n    if (css_urls == null) css_urls = [];\n    if (js_urls == null) js_urls = [];\n\n    root._bokeh_onload_callbacks.push(callback);\n    if (root._bokeh_is_loading > 0) {\n      console.debug(\"Bokeh: BokehJS is being loaded, scheduling callback at\", now());\n      return null;\n    }\n    if (js_urls == null || js_urls.length === 0) {\n      run_callbacks();\n      return null;\n    }\n    console.debug(\"Bokeh: BokehJS not loaded, scheduling load and callback at\", now());\n    root._bokeh_is_loading = css_urls.length + js_urls.length;\n\n    function on_load() {\n      root._bokeh_is_loading--;\n      if (root._bokeh_is_loading === 0) {\n        console.debug(\"Bokeh: all BokehJS libraries/stylesheets loaded\");\n        run_callbacks()\n      }\n    }\n\n    function on_error() {\n      console.error(\"failed to load \" + url);\n    }\n\n    for (var i = 0; i < css_urls.length; i++) {\n      var url = css_urls[i];\n      const element = document.createElement(\"link\");\n      element.onload = on_load;\n      element.onerror = on_error;\n      element.rel = \"stylesheet\";\n      element.type = \"text/css\";\n      element.href = url;\n      console.debug(\"Bokeh: injecting link tag for BokehJS stylesheet: \", url);\n      document.body.appendChild(element);\n    }\n\n    const hashes = {\"https://cdn.bokeh.org/bokeh/release/bokeh-2.2.3.min.js\": \"T2yuo9Oe71Cz/I4X9Ac5+gpEa5a8PpJCDlqKYO0CfAuEszu1JrXLl8YugMqYe3sM\", \"https://cdn.bokeh.org/bokeh/release/bokeh-widgets-2.2.3.min.js\": \"98GDGJ0kOMCUMUePhksaQ/GYgB3+NH9h996V88sh3aOiUNX3N+fLXAtry6xctSZ6\", \"https://cdn.bokeh.org/bokeh/release/bokeh-tables-2.2.3.min.js\": \"89bArO+nlbP3sgakeHjCo1JYxYR5wufVgA3IbUvDY+K7w4zyxJqssu7wVnfeKCq8\"};\n\n    for (var i = 0; i < js_urls.length; i++) {\n      var url = js_urls[i];\n      var element = document.createElement('script');\n      element.onload = on_load;\n      element.onerror = on_error;\n      element.async = false;\n      element.src = url;\n      if (url in hashes) {\n        element.crossOrigin = \"anonymous\";\n        element.integrity = \"sha384-\" + hashes[url];\n      }\n      console.debug(\"Bokeh: injecting script tag for BokehJS library: \", url);\n      document.head.appendChild(element);\n    }\n  };\n\n  function inject_raw_css(css) {\n    const element = document.createElement(\"style\");\n    element.appendChild(document.createTextNode(css));\n    document.body.appendChild(element);\n  }\n\n  \n  var js_urls = [\"https://cdn.bokeh.org/bokeh/release/bokeh-2.2.3.min.js\", \"https://cdn.bokeh.org/bokeh/release/bokeh-widgets-2.2.3.min.js\", \"https://cdn.bokeh.org/bokeh/release/bokeh-tables-2.2.3.min.js\"];\n  var css_urls = [];\n  \n\n  var inline_js = [\n    function(Bokeh) {\n      Bokeh.set_log_level(\"info\");\n    },\n    function(Bokeh) {\n    \n    \n    }\n  ];\n\n  function run_inline_js() {\n    \n    if (root.Bokeh !== undefined || force === true) {\n      \n    for (var i = 0; i < inline_js.length; i++) {\n      inline_js[i].call(root, root.Bokeh);\n    }\n    if (force === true) {\n        display_loaded();\n      }} else if (Date.now() < root._bokeh_timeout) {\n      setTimeout(run_inline_js, 100);\n    } else if (!root._bokeh_failed_load) {\n      console.log(\"Bokeh: BokehJS failed to load within specified timeout.\");\n      root._bokeh_failed_load = true;\n    } else if (force !== true) {\n      var cell = $(document.getElementById(\"1001\")).parents('.cell').data().cell;\n      cell.output_area.append_execute_result(NB_LOAD_WARNING)\n    }\n\n  }\n\n  if (root._bokeh_is_loading === 0) {\n    console.debug(\"Bokeh: BokehJS loaded, going straight to plotting\");\n    run_inline_js();\n  } else {\n    load_libs(css_urls, js_urls, function() {\n      console.debug(\"Bokeh: BokehJS plotting callback run at\", now());\n      run_inline_js();\n    });\n  }\n}(window));"
     },
     "metadata": {},
     "output_type": "display_data"
    }
   ],
   "source": [
    "import bokeh.plotting as bplot\n",
    "import bokeh.io\n",
    "import bokeh.resources\n",
    "bokeh.io.output_notebook() #bokeh.resources.INLINE)"
   ]
  },
  {
   "cell_type": "code",
   "execution_count": 2,
   "metadata": {},
   "outputs": [],
   "source": [
    "import numpy as np\n",
    "import scipy"
   ]
  },
  {
   "cell_type": "code",
   "execution_count": 3,
   "metadata": {},
   "outputs": [],
   "source": [
    "x = np.arange(1000)\n",
    "ws = 250\n",
    "y = np.sin(2 * np.pi * x / ws)\n",
    "e = np.random.randn(*y.shape) * 0.3\n",
    "z = y + e"
   ]
  },
  {
   "cell_type": "code",
   "execution_count": 4,
   "metadata": {},
   "outputs": [
    {
     "data": {
      "text/html": [
       "\n",
       "\n",
       "\n",
       "\n",
       "\n",
       "\n",
       "  <div class=\"bk-root\" id=\"4ce80baf-18c6-47ab-a512-648615239574\" data-root-id=\"1002\"></div>\n"
      ]
     },
     "metadata": {},
     "output_type": "display_data"
    },
    {
     "data": {
      "application/javascript": [
       "(function(root) {\n",
       "  function embed_document(root) {\n",
       "    \n",
       "  var docs_json = {\"3715bb47-ad85-4850-bfbd-f69504f2b077\":{\"roots\":{\"references\":[{\"attributes\":{\"below\":[{\"id\":\"1013\"}],\"center\":[{\"id\":\"1016\"},{\"id\":\"1020\"},{\"id\":\"1048\"}],\"left\":[{\"id\":\"1017\"}],\"renderers\":[{\"id\":\"1038\"}],\"title\":{\"id\":\"1003\"},\"toolbar\":{\"id\":\"1028\"},\"x_range\":{\"id\":\"1005\"},\"x_scale\":{\"id\":\"1009\"},\"y_range\":{\"id\":\"1007\"},\"y_scale\":{\"id\":\"1011\"}},\"id\":\"1002\",\"subtype\":\"Figure\",\"type\":\"Plot\"},{\"attributes\":{},\"id\":\"1005\",\"type\":\"DataRange1d\"},{\"attributes\":{},\"id\":\"1041\",\"type\":\"BasicTickFormatter\"},{\"attributes\":{\"bottom_units\":\"screen\",\"fill_alpha\":0.5,\"fill_color\":\"lightgrey\",\"left_units\":\"screen\",\"level\":\"overlay\",\"line_alpha\":1.0,\"line_color\":\"black\",\"line_dash\":[4,4],\"line_width\":2,\"right_units\":\"screen\",\"top_units\":\"screen\"},\"id\":\"1027\",\"type\":\"BoxAnnotation\"},{\"attributes\":{\"source\":{\"id\":\"1035\"}},\"id\":\"1039\",\"type\":\"CDSView\"},{\"attributes\":{},\"id\":\"1043\",\"type\":\"BasicTickFormatter\"},{\"attributes\":{\"text\":\"Some data\"},\"id\":\"1003\",\"type\":\"Title\"},{\"attributes\":{\"line_alpha\":0.1,\"line_color\":\"#1f77b4\",\"line_width\":2,\"x\":{\"field\":\"x\"},\"y\":{\"field\":\"y\"}},\"id\":\"1037\",\"type\":\"Line\"},{\"attributes\":{\"axis\":{\"id\":\"1013\"},\"ticker\":null},\"id\":\"1016\",\"type\":\"Grid\"},{\"attributes\":{\"data_source\":{\"id\":\"1035\"},\"glyph\":{\"id\":\"1036\"},\"hover_glyph\":null,\"muted_glyph\":null,\"nonselection_glyph\":{\"id\":\"1037\"},\"selection_glyph\":null,\"view\":{\"id\":\"1039\"}},\"id\":\"1038\",\"type\":\"GlyphRenderer\"},{\"attributes\":{\"active_drag\":\"auto\",\"active_inspect\":\"auto\",\"active_multi\":null,\"active_scroll\":\"auto\",\"active_tap\":\"auto\",\"tools\":[{\"id\":\"1021\"},{\"id\":\"1022\"},{\"id\":\"1023\"},{\"id\":\"1024\"},{\"id\":\"1025\"},{\"id\":\"1026\"}]},\"id\":\"1028\",\"type\":\"Toolbar\"},{\"attributes\":{},\"id\":\"1022\",\"type\":\"WheelZoomTool\"},{\"attributes\":{},\"id\":\"1024\",\"type\":\"SaveTool\"},{\"attributes\":{\"items\":[{\"id\":\"1049\"}]},\"id\":\"1048\",\"type\":\"Legend\"},{\"attributes\":{},\"id\":\"1045\",\"type\":\"Selection\"},{\"attributes\":{},\"id\":\"1046\",\"type\":\"UnionRenderers\"},{\"attributes\":{},\"id\":\"1021\",\"type\":\"PanTool\"},{\"attributes\":{},\"id\":\"1025\",\"type\":\"ResetTool\"},{\"attributes\":{\"overlay\":{\"id\":\"1027\"}},\"id\":\"1023\",\"type\":\"BoxZoomTool\"},{\"attributes\":{},\"id\":\"1026\",\"type\":\"HelpTool\"},{\"attributes\":{},\"id\":\"1014\",\"type\":\"BasicTicker\"},{\"attributes\":{\"axis_label\":\"x\",\"formatter\":{\"id\":\"1043\"},\"ticker\":{\"id\":\"1014\"}},\"id\":\"1013\",\"type\":\"LinearAxis\"},{\"attributes\":{},\"id\":\"1009\",\"type\":\"LinearScale\"},{\"attributes\":{},\"id\":\"1007\",\"type\":\"DataRange1d\"},{\"attributes\":{\"line_color\":\"#1f77b4\",\"line_width\":2,\"x\":{\"field\":\"x\"},\"y\":{\"field\":\"y\"}},\"id\":\"1036\",\"type\":\"Line\"},{\"attributes\":{\"axis_label\":\"y\",\"formatter\":{\"id\":\"1041\"},\"ticker\":{\"id\":\"1018\"}},\"id\":\"1017\",\"type\":\"LinearAxis\"},{\"attributes\":{\"axis\":{\"id\":\"1017\"},\"dimension\":1,\"ticker\":null},\"id\":\"1020\",\"type\":\"Grid\"},{\"attributes\":{},\"id\":\"1018\",\"type\":\"BasicTicker\"},{\"attributes\":{\"label\":{\"value\":\"the data\"},\"renderers\":[{\"id\":\"1038\"}]},\"id\":\"1049\",\"type\":\"LegendItem\"},{\"attributes\":{},\"id\":\"1011\",\"type\":\"LinearScale\"},{\"attributes\":{\"data\":{\"x\":[0,1,2,3,4,5,6,7,8,9,10,11,12,13,14,15,16,17,18,19,20,21,22,23,24,25,26,27,28,29,30,31,32,33,34,35,36,37,38,39,40,41,42,43,44,45,46,47,48,49,50,51,52,53,54,55,56,57,58,59,60,61,62,63,64,65,66,67,68,69,70,71,72,73,74,75,76,77,78,79,80,81,82,83,84,85,86,87,88,89,90,91,92,93,94,95,96,97,98,99,100,101,102,103,104,105,106,107,108,109,110,111,112,113,114,115,116,117,118,119,120,121,122,123,124,125,126,127,128,129,130,131,132,133,134,135,136,137,138,139,140,141,142,143,144,145,146,147,148,149,150,151,152,153,154,155,156,157,158,159,160,161,162,163,164,165,166,167,168,169,170,171,172,173,174,175,176,177,178,179,180,181,182,183,184,185,186,187,188,189,190,191,192,193,194,195,196,197,198,199,200,201,202,203,204,205,206,207,208,209,210,211,212,213,214,215,216,217,218,219,220,221,222,223,224,225,226,227,228,229,230,231,232,233,234,235,236,237,238,239,240,241,242,243,244,245,246,247,248,249,250,251,252,253,254,255,256,257,258,259,260,261,262,263,264,265,266,267,268,269,270,271,272,273,274,275,276,277,278,279,280,281,282,283,284,285,286,287,288,289,290,291,292,293,294,295,296,297,298,299,300,301,302,303,304,305,306,307,308,309,310,311,312,313,314,315,316,317,318,319,320,321,322,323,324,325,326,327,328,329,330,331,332,333,334,335,336,337,338,339,340,341,342,343,344,345,346,347,348,349,350,351,352,353,354,355,356,357,358,359,360,361,362,363,364,365,366,367,368,369,370,371,372,373,374,375,376,377,378,379,380,381,382,383,384,385,386,387,388,389,390,391,392,393,394,395,396,397,398,399,400,401,402,403,404,405,406,407,408,409,410,411,412,413,414,415,416,417,418,419,420,421,422,423,424,425,426,427,428,429,430,431,432,433,434,435,436,437,438,439,440,441,442,443,444,445,446,447,448,449,450,451,452,453,454,455,456,457,458,459,460,461,462,463,464,465,466,467,468,469,470,471,472,473,474,475,476,477,478,479,480,481,482,483,484,485,486,487,488,489,490,491,492,493,494,495,496,497,498,499,500,501,502,503,504,505,506,507,508,509,510,511,512,513,514,515,516,517,518,519,520,521,522,523,524,525,526,527,528,529,530,531,532,533,534,535,536,537,538,539,540,541,542,543,544,545,546,547,548,549,550,551,552,553,554,555,556,557,558,559,560,561,562,563,564,565,566,567,568,569,570,571,572,573,574,575,576,577,578,579,580,581,582,583,584,585,586,587,588,589,590,591,592,593,594,595,596,597,598,599,600,601,602,603,604,605,606,607,608,609,610,611,612,613,614,615,616,617,618,619,620,621,622,623,624,625,626,627,628,629,630,631,632,633,634,635,636,637,638,639,640,641,642,643,644,645,646,647,648,649,650,651,652,653,654,655,656,657,658,659,660,661,662,663,664,665,666,667,668,669,670,671,672,673,674,675,676,677,678,679,680,681,682,683,684,685,686,687,688,689,690,691,692,693,694,695,696,697,698,699,700,701,702,703,704,705,706,707,708,709,710,711,712,713,714,715,716,717,718,719,720,721,722,723,724,725,726,727,728,729,730,731,732,733,734,735,736,737,738,739,740,741,742,743,744,745,746,747,748,749,750,751,752,753,754,755,756,757,758,759,760,761,762,763,764,765,766,767,768,769,770,771,772,773,774,775,776,777,778,779,780,781,782,783,784,785,786,787,788,789,790,791,792,793,794,795,796,797,798,799,800,801,802,803,804,805,806,807,808,809,810,811,812,813,814,815,816,817,818,819,820,821,822,823,824,825,826,827,828,829,830,831,832,833,834,835,836,837,838,839,840,841,842,843,844,845,846,847,848,849,850,851,852,853,854,855,856,857,858,859,860,861,862,863,864,865,866,867,868,869,870,871,872,873,874,875,876,877,878,879,880,881,882,883,884,885,886,887,888,889,890,891,892,893,894,895,896,897,898,899,900,901,902,903,904,905,906,907,908,909,910,911,912,913,914,915,916,917,918,919,920,921,922,923,924,925,926,927,928,929,930,931,932,933,934,935,936,937,938,939,940,941,942,943,944,945,946,947,948,949,950,951,952,953,954,955,956,957,958,959,960,961,962,963,964,965,966,967,968,969,970,971,972,973,974,975,976,977,978,979,980,981,982,983,984,985,986,987,988,989,990,991,992,993,994,995,996,997,998,999],\"y\":{\"__ndarray__\":\"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\",\"dtype\":\"float64\",\"order\":\"little\",\"shape\":[1000]}},\"selected\":{\"id\":\"1045\"},\"selection_policy\":{\"id\":\"1046\"}},\"id\":\"1035\",\"type\":\"ColumnDataSource\"}],\"root_ids\":[\"1002\"]},\"title\":\"Bokeh Application\",\"version\":\"2.2.3\"}};\n",
       "  var render_items = [{\"docid\":\"3715bb47-ad85-4850-bfbd-f69504f2b077\",\"root_ids\":[\"1002\"],\"roots\":{\"1002\":\"4ce80baf-18c6-47ab-a512-648615239574\"}}];\n",
       "  root.Bokeh.embed.embed_items_notebook(docs_json, render_items);\n",
       "\n",
       "  }\n",
       "  if (root.Bokeh !== undefined) {\n",
       "    embed_document(root);\n",
       "  } else {\n",
       "    var attempts = 0;\n",
       "    var timer = setInterval(function(root) {\n",
       "      if (root.Bokeh !== undefined) {\n",
       "        clearInterval(timer);\n",
       "        embed_document(root);\n",
       "      } else {\n",
       "        attempts++;\n",
       "        if (attempts > 100) {\n",
       "          clearInterval(timer);\n",
       "          console.log(\"Bokeh: ERROR: Unable to run BokehJS code because BokehJS library is missing\");\n",
       "        }\n",
       "      }\n",
       "    }, 10, root)\n",
       "  }\n",
       "})(window);"
      ],
      "application/vnd.bokehjs_exec.v0+json": ""
     },
     "metadata": {
      "application/vnd.bokehjs_exec.v0+json": {
       "id": "1002"
      }
     },
     "output_type": "display_data"
    }
   ],
   "source": [
    "plot = bplot.figure(title=\"Some data\", x_axis_label=\"x\", y_axis_label=\"y\")\n",
    "plot.line(x, z, legend_label=\"the data\", line_width=2)\n",
    "bplot.show(plot)"
   ]
  },
  {
   "cell_type": "code",
   "execution_count": 5,
   "metadata": {},
   "outputs": [
    {
     "data": {
      "text/html": [
       "\n",
       "\n",
       "\n",
       "\n",
       "\n",
       "\n",
       "  <div class=\"bk-root\" id=\"b5ff9e88-74e0-432d-baa4-ff8e2cf284c2\" data-root-id=\"1098\"></div>\n"
      ]
     },
     "metadata": {},
     "output_type": "display_data"
    },
    {
     "data": {
      "application/javascript": [
       "(function(root) {\n",
       "  function embed_document(root) {\n",
       "    \n",
       "  var docs_json = {\"774ea301-257c-4def-847c-3291e35391d1\":{\"roots\":{\"references\":[{\"attributes\":{\"below\":[{\"id\":\"1109\"}],\"center\":[{\"id\":\"1112\"},{\"id\":\"1116\"},{\"id\":\"1144\"}],\"left\":[{\"id\":\"1113\"}],\"renderers\":[{\"id\":\"1134\"},{\"id\":\"1149\"}],\"title\":{\"id\":\"1099\"},\"toolbar\":{\"id\":\"1124\"},\"x_range\":{\"id\":\"1101\"},\"x_scale\":{\"id\":\"1105\"},\"y_range\":{\"id\":\"1103\"},\"y_scale\":{\"id\":\"1107\"}},\"id\":\"1098\",\"subtype\":\"Figure\",\"type\":\"Plot\"},{\"attributes\":{\"text\":\"Some data\"},\"id\":\"1099\",\"type\":\"Title\"},{\"attributes\":{\"source\":{\"id\":\"1146\"}},\"id\":\"1150\",\"type\":\"CDSView\"},{\"attributes\":{\"data\":{\"x\":[0,1,2,3,4,5,6,7,8,9,10,11,12,13,14,15,16,17,18,19,20,21,22,23,24,25,26,27,28,29,30,31,32,33,34,35,36,37,38,39,40,41,42,43,44,45,46,47,48,49,50,51,52,53,54,55,56,57,58,59,60,61,62,63,64,65,66,67,68,69,70,71,72,73,74,75,76,77,78,79,80,81,82,83,84,85,86,87,88,89,90,91,92,93,94,95,96,97,98,99,100,101,102,103,104,105,106,107,108,109,110,111,112,113,114,115,116,117,118,119,120,121,122,123,124,125,126,127,128,129,130,131,132,133,134,135,136,137,138,139,140,141,142,143,144,145,146,147,148,149,150,151,152,153,154,155,156,157,158,159,160,161,162,163,164,165,166,167,168,169,170,171,172,173,174,175,176,177,178,179,180,181,182,183,184,185,186,187,188,189,190,191,192,193,194,195,196,197,198,199,200,201,202,203,204,205,206,207,208,209,210,211,212,213,214,215,216,217,218,219,220,221,222,223,224,225,226,227,228,229,230,231,232,233,234,235,236,237,238,239,240,241,242,243,244,245,246,247,248,249,250,251,252,253,254,255,256,257,258,259,260,261,262,263,264,265,266,267,268,269,270,271,272,273,274,275,276,277,278,279,280,281,282,283,284,285,286,287,288,289,290,291,292,293,294,295,296,297,298,299,300,301,302,303,304,305,306,307,308,309,310,311,312,313,314,315,316,317,318,319,320,321,322,323,324,325,326,327,328,329,330,331,332,333,334,335,336,337,338,339,340,341,342,343,344,345,346,347,348,349,350,351,352,353,354,355,356,357,358,359,360,361,362,363,364,365,366,367,368,369,370,371,372,373,374,375,376,377,378,379,380,381,382,383,384,385,386,387,388,389,390,391,392,393,394,395,396,397,398,399,400,401,402,403,404,405,406,407,408,409,410,411,412,413,414,415,416,417,418,419,420,421,422,423,424,425,426,427,428,429,430,431,432,433,434,435,436,437,438,439,440,441,442,443,444,445,446,447,448,449,450,451,452,453,454,455,456,457,458,459,460,461,462,463,464,465,466,467,468,469,470,471,472,473,474,475,476,477,478,479,480,481,482,483,484,485,486,487,488,489,490,491,492,493,494,495,496,497,498,499,500,501,502,503,504,505,506,507,508,509,510,511,512,513,514,515,516,517,518,519,520,521,522,523,524,525,526,527,528,529,530,531,532,533,534,535,536,537,538,539,540,541,542,543,544,545,546,547,548,549,550,551,552,553,554,555,556,557,558,559,560,561,562,563,564,565,566,567,568,569,570,571,572,573,574,575,576,577,578,579,580,581,582,583,584,585,586,587,588,589,590,591,592,593,594,595,596,597,598,599,600,601,602,603,604,605,606,607,608,609,610,611,612,613,614,615,616,617,618,619,620,621,622,623,624,625,626,627,628,629,630,631,632,633,634,635,636,637,638,639,640,641,642,643,644,645,646,647,648,649,650,651,652,653,654,655,656,657,658,659,660,661,662,663,664,665,666,667,668,669,670,671,672,673,674,675,676,677,678,679,680,681,682,683,684,685,686,687,688,689,690,691,692,693,694,695,696,697,698,699,700,701,702,703,704,705,706,707,708,709,710,711,712,713,714,715,716,717,718,719,720,721,722,723,724,725,726,727,728,729,730,731,732,733,734,735,736,737,738,739,740,741,742,743,744,745,746,747,748,749,750,751,752,753,754,755,756,757,758,759,760,761,762,763,764,765,766,767,768,769,770,771,772,773,774,775,776,777,778,779,780,781,782,783,784,785,786,787,788,789,790,791,792,793,794,795,796,797,798,799,800,801,802,803,804,805,806,807,808,809,810,811,812,813,814,815,816,817,818,819,820,821,822,823,824,825,826,827,828,829,830,831,832,833,834,835,836,837,838,839,840,841,842,843,844,845,846,847,848,849,850,851,852,853,854,855,856,857,858,859,860,861,862,863,864,865,866,867,868,869,870,871,872,873,874,875,876,877,878,879,880,881,882,883,884,885,886,887,888,889,890,891,892,893,894,895,896,897,898,899,900,901,902,903,904,905,906,907,908,909,910,911,912,913,914,915,916,917,918,919,920,921,922,923,924,925,926,927,928,929,930,931,932,933,934,935,936,937,938,939,940,941,942,943,944,945,946,947,948,949,950,951,952,953,954,955,956,957,958,959,960,961,962,963,964,965,966,967,968,969,970,971,972,973,974,975,976,977,978,979,980,981,982,983,984,985,986,987,988,989,990,991,992,993,994,995,996,997,998,999],\"y\":{\"__ndarray__\":\"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\",\"dtype\":\"float64\",\"order\":\"little\",\"shape\":[1000]}},\"selected\":{\"id\":\"1141\"},\"selection_policy\":{\"id\":\"1142\"}},\"id\":\"1131\",\"type\":\"ColumnDataSource\"},{\"attributes\":{\"label\":{\"value\":\"error\"},\"renderers\":[{\"id\":\"1149\"}]},\"id\":\"1161\",\"type\":\"LegendItem\"},{\"attributes\":{},\"id\":\"1122\",\"type\":\"HelpTool\"},{\"attributes\":{\"data_source\":{\"id\":\"1131\"},\"glyph\":{\"id\":\"1132\"},\"hover_glyph\":null,\"muted_glyph\":null,\"nonselection_glyph\":{\"id\":\"1133\"},\"selection_glyph\":null,\"view\":{\"id\":\"1135\"}},\"id\":\"1134\",\"type\":\"GlyphRenderer\"},{\"attributes\":{\"axis\":{\"id\":\"1113\"},\"dimension\":1,\"ticker\":null},\"id\":\"1116\",\"type\":\"Grid\"},{\"attributes\":{},\"id\":\"1139\",\"type\":\"BasicTickFormatter\"},{\"attributes\":{\"line_color\":\"#cccc22\",\"line_width\":2,\"x\":{\"field\":\"x\"},\"y\":{\"field\":\"y\"}},\"id\":\"1132\",\"type\":\"Line\"},{\"attributes\":{},\"id\":\"1121\",\"type\":\"ResetTool\"},{\"attributes\":{},\"id\":\"1141\",\"type\":\"Selection\"},{\"attributes\":{\"axis\":{\"id\":\"1109\"},\"ticker\":null},\"id\":\"1112\",\"type\":\"Grid\"},{\"attributes\":{\"data_source\":{\"id\":\"1146\"},\"glyph\":{\"id\":\"1147\"},\"hover_glyph\":null,\"muted_glyph\":null,\"nonselection_glyph\":{\"id\":\"1148\"},\"selection_glyph\":null,\"view\":{\"id\":\"1150\"}},\"id\":\"1149\",\"type\":\"GlyphRenderer\"},{\"attributes\":{\"items\":[{\"id\":\"1145\"},{\"id\":\"1161\"}]},\"id\":\"1144\",\"type\":\"Legend\"},{\"attributes\":{\"label\":{\"value\":\"expected\"},\"renderers\":[{\"id\":\"1134\"}]},\"id\":\"1145\",\"type\":\"LegendItem\"},{\"attributes\":{\"overlay\":{\"id\":\"1123\"}},\"id\":\"1119\",\"type\":\"BoxZoomTool\"},{\"attributes\":{},\"id\":\"1120\",\"type\":\"SaveTool\"},{\"attributes\":{},\"id\":\"1158\",\"type\":\"Selection\"},{\"attributes\":{},\"id\":\"1159\",\"type\":\"UnionRenderers\"},{\"attributes\":{\"fill_alpha\":{\"value\":0.1},\"fill_color\":{\"value\":\"#cc3333\"},\"line_alpha\":{\"value\":0.1},\"line_color\":{\"value\":null},\"size\":{\"units\":\"screen\",\"value\":7},\"x\":{\"field\":\"x\"},\"y\":{\"field\":\"y\"}},\"id\":\"1148\",\"type\":\"Circle\"},{\"attributes\":{\"data\":{\"fill_alpha\":{\"__ndarray__\":\"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\",\"dtype\":\"float64\",\"order\":\"little\",\"shape\":[1000]},\"x\":[0,1,2,3,4,5,6,7,8,9,10,11,12,13,14,15,16,17,18,19,20,21,22,23,24,25,26,27,28,29,30,31,32,33,34,35,36,37,38,39,40,41,42,43,44,45,46,47,48,49,50,51,52,53,54,55,56,57,58,59,60,61,62,63,64,65,66,67,68,69,70,71,72,73,74,75,76,77,78,79,80,81,82,83,84,85,86,87,88,89,90,91,92,93,94,95,96,97,98,99,100,101,102,103,104,105,106,107,108,109,110,111,112,113,114,115,116,117,118,119,120,121,122,123,124,125,126,127,128,129,130,131,132,133,134,135,136,137,138,139,140,141,142,143,144,145,146,147,148,149,150,151,152,153,154,155,156,157,158,159,160,161,162,163,164,165,166,167,168,169,170,171,172,173,174,175,176,177,178,179,180,181,182,183,184,185,186,187,188,189,190,191,192,193,194,195,196,197,198,199,200,201,202,203,204,205,206,207,208,209,210,211,212,213,214,215,216,217,218,219,220,221,222,223,224,225,226,227,228,229,230,231,232,233,234,235,236,237,238,239,240,241,242,243,244,245,246,247,248,249,250,251,252,253,254,255,256,257,258,259,260,261,262,263,264,265,266,267,268,269,270,271,272,273,274,275,276,277,278,279,280,281,282,283,284,285,286,287,288,289,290,291,292,293,294,295,296,297,298,299,300,301,302,303,304,305,306,307,308,309,310,311,312,313,314,315,316,317,318,319,320,321,322,323,324,325,326,327,328,329,330,331,332,333,334,335,336,337,338,339,340,341,342,343,344,345,346,347,348,349,350,351,352,353,354,355,356,357,358,359,360,361,362,363,364,365,366,367,368,369,370,371,372,373,374,375,376,377,378,379,380,381,382,383,384,385,386,387,388,389,390,391,392,393,394,395,396,397,398,399,400,401,402,403,404,405,406,407,408,409,410,411,412,413,414,415,416,417,418,419,420,421,422,423,424,425,426,427,428,429,430,431,432,433,434,435,436,437,438,439,440,441,442,443,444,445,446,447,448,449,450,451,452,453,454,455,456,457,458,459,460,461,462,463,464,465,466,467,468,469,470,471,472,473,474,475,476,477,478,479,480,481,482,483,484,485,486,487,488,489,490,491,492,493,494,495,496,497,498,499,500,501,502,503,504,505,506,507,508,509,510,511,512,513,514,515,516,517,518,519,520,521,522,523,524,525,526,527,528,529,530,531,532,533,534,535,536,537,538,539,540,541,542,543,544,545,546,547,548,549,550,551,552,553,554,555,556,557,558,559,560,561,562,563,564,565,566,567,568,569,570,571,572,573,574,575,576,577,578,579,580,581,582,583,584,585,586,587,588,589,590,591,592,593,594,595,596,597,598,599,600,601,602,603,604,605,606,607,608,609,610,611,612,613,614,615,616,617,618,619,620,621,622,623,624,625,626,627,628,629,630,631,632,633,634,635,636,637,638,639,640,641,642,643,644,645,646,647,648,649,650,651,652,653,654,655,656,657,658,659,660,661,662,663,664,665,666,667,668,669,670,671,672,673,674,675,676,677,678,679,680,681,682,683,684,685,686,687,688,689,690,691,692,693,694,695,696,697,698,699,700,701,702,703,704,705,706,707,708,709,710,711,712,713,714,715,716,717,718,719,720,721,722,723,724,725,726,727,728,729,730,731,732,733,734,735,736,737,738,739,740,741,742,743,744,745,746,747,748,749,750,751,752,753,754,755,756,757,758,759,760,761,762,763,764,765,766,767,768,769,770,771,772,773,774,775,776,777,778,779,780,781,782,783,784,785,786,787,788,789,790,791,792,793,794,795,796,797,798,799,800,801,802,803,804,805,806,807,808,809,810,811,812,813,814,815,816,817,818,819,820,821,822,823,824,825,826,827,828,829,830,831,832,833,834,835,836,837,838,839,840,841,842,843,844,845,846,847,848,849,850,851,852,853,854,855,856,857,858,859,860,861,862,863,864,865,866,867,868,869,870,871,872,873,874,875,876,877,878,879,880,881,882,883,884,885,886,887,888,889,890,891,892,893,894,895,896,897,898,899,900,901,902,903,904,905,906,907,908,909,910,911,912,913,914,915,916,917,918,919,920,921,922,923,924,925,926,927,928,929,930,931,932,933,934,935,936,937,938,939,940,941,942,943,944,945,946,947,948,949,950,951,952,953,954,955,956,957,958,959,960,961,962,963,964,965,966,967,968,969,970,971,972,973,974,975,976,977,978,979,980,981,982,983,984,985,986,987,988,989,990,991,992,993,994,995,996,997,998,999],\"y\":{\"__ndarray__\":\"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\",\"dtype\":\"float64\",\"order\":\"little\",\"shape\":[1000]}},\"selected\":{\"id\":\"1158\"},\"selection_policy\":{\"id\":\"1159\"}},\"id\":\"1146\",\"type\":\"ColumnDataSource\"},{\"attributes\":{},\"id\":\"1118\",\"type\":\"WheelZoomTool\"},{\"attributes\":{\"line_alpha\":0.1,\"line_color\":\"#cccc22\",\"line_width\":2,\"x\":{\"field\":\"x\"},\"y\":{\"field\":\"y\"}},\"id\":\"1133\",\"type\":\"Line\"},{\"attributes\":{\"active_drag\":\"auto\",\"active_inspect\":\"auto\",\"active_multi\":null,\"active_scroll\":\"auto\",\"active_tap\":\"auto\",\"tools\":[{\"id\":\"1117\"},{\"id\":\"1118\"},{\"id\":\"1119\"},{\"id\":\"1120\"},{\"id\":\"1121\"},{\"id\":\"1122\"}]},\"id\":\"1124\",\"type\":\"Toolbar\"},{\"attributes\":{},\"id\":\"1137\",\"type\":\"BasicTickFormatter\"},{\"attributes\":{},\"id\":\"1117\",\"type\":\"PanTool\"},{\"attributes\":{},\"id\":\"1142\",\"type\":\"UnionRenderers\"},{\"attributes\":{\"fill_alpha\":{\"field\":\"fill_alpha\"},\"fill_color\":{\"value\":\"#cc3333\"},\"line_color\":{\"value\":null},\"size\":{\"units\":\"screen\",\"value\":7},\"x\":{\"field\":\"x\"},\"y\":{\"field\":\"y\"}},\"id\":\"1147\",\"type\":\"Circle\"},{\"attributes\":{},\"id\":\"1105\",\"type\":\"LinearScale\"},{\"attributes\":{\"axis_label\":\"y\",\"formatter\":{\"id\":\"1137\"},\"ticker\":{\"id\":\"1114\"}},\"id\":\"1113\",\"type\":\"LinearAxis\"},{\"attributes\":{},\"id\":\"1107\",\"type\":\"LinearScale\"},{\"attributes\":{\"axis_label\":\"x\",\"formatter\":{\"id\":\"1139\"},\"ticker\":{\"id\":\"1110\"}},\"id\":\"1109\",\"type\":\"LinearAxis\"},{\"attributes\":{},\"id\":\"1103\",\"type\":\"DataRange1d\"},{\"attributes\":{},\"id\":\"1114\",\"type\":\"BasicTicker\"},{\"attributes\":{},\"id\":\"1110\",\"type\":\"BasicTicker\"},{\"attributes\":{\"source\":{\"id\":\"1131\"}},\"id\":\"1135\",\"type\":\"CDSView\"},{\"attributes\":{},\"id\":\"1101\",\"type\":\"DataRange1d\"},{\"attributes\":{\"bottom_units\":\"screen\",\"fill_alpha\":0.5,\"fill_color\":\"lightgrey\",\"left_units\":\"screen\",\"level\":\"overlay\",\"line_alpha\":1.0,\"line_color\":\"black\",\"line_dash\":[4,4],\"line_width\":2,\"right_units\":\"screen\",\"top_units\":\"screen\"},\"id\":\"1123\",\"type\":\"BoxAnnotation\"}],\"root_ids\":[\"1098\"]},\"title\":\"Bokeh Application\",\"version\":\"2.2.3\"}};\n",
       "  var render_items = [{\"docid\":\"774ea301-257c-4def-847c-3291e35391d1\",\"root_ids\":[\"1098\"],\"roots\":{\"1098\":\"b5ff9e88-74e0-432d-baa4-ff8e2cf284c2\"}}];\n",
       "  root.Bokeh.embed.embed_items_notebook(docs_json, render_items);\n",
       "\n",
       "  }\n",
       "  if (root.Bokeh !== undefined) {\n",
       "    embed_document(root);\n",
       "  } else {\n",
       "    var attempts = 0;\n",
       "    var timer = setInterval(function(root) {\n",
       "      if (root.Bokeh !== undefined) {\n",
       "        clearInterval(timer);\n",
       "        embed_document(root);\n",
       "      } else {\n",
       "        attempts++;\n",
       "        if (attempts > 100) {\n",
       "          clearInterval(timer);\n",
       "          console.log(\"Bokeh: ERROR: Unable to run BokehJS code because BokehJS library is missing\");\n",
       "        }\n",
       "      }\n",
       "    }, 10, root)\n",
       "  }\n",
       "})(window);"
      ],
      "application/vnd.bokehjs_exec.v0+json": ""
     },
     "metadata": {
      "application/vnd.bokehjs_exec.v0+json": {
       "id": "1098"
      }
     },
     "output_type": "display_data"
    }
   ],
   "source": [
    "plot = bplot.figure(title=\"Some data\", x_axis_label=\"x\", y_axis_label=\"y\")\n",
    "plot.line(x, y, color=\"#cccc22\", legend_label=\"expected\", line_width=2)\n",
    "plot.circle(x, z, line_color=None, size=7, fill_color=\"#cc3333\", fill_alpha=np.tanh(3*e**2), legend_label=\"error\")\n",
    "bplot.show(plot)"
   ]
  },
  {
   "cell_type": "code",
   "execution_count": 7,
   "metadata": {},
   "outputs": [],
   "source": [
    "v = np.random.randn(15000)\n",
    "w = 0.5*np.random.randn(3000) + 2\n",
    "q = np.hstack((v, w))\n",
    "\n",
    "Q, e = np.histogram(q, 50)"
   ]
  },
  {
   "cell_type": "code",
   "execution_count": 8,
   "metadata": {},
   "outputs": [
    {
     "data": {
      "text/html": [
       "\n",
       "\n",
       "\n",
       "\n",
       "\n",
       "\n",
       "  <div class=\"bk-root\" id=\"8fc796c8-e038-4729-908e-6f17cec6b626\" data-root-id=\"1230\"></div>\n"
      ]
     },
     "metadata": {},
     "output_type": "display_data"
    },
    {
     "data": {
      "application/javascript": [
       "(function(root) {\n",
       "  function embed_document(root) {\n",
       "    \n",
       "  var docs_json = {\"627156d5-32d2-4054-885e-fe453278da05\":{\"roots\":{\"references\":[{\"attributes\":{\"below\":[{\"id\":\"1241\"}],\"center\":[{\"id\":\"1244\"},{\"id\":\"1248\"}],\"left\":[{\"id\":\"1245\"}],\"renderers\":[{\"id\":\"1266\"}],\"title\":{\"id\":\"1231\"},\"toolbar\":{\"id\":\"1256\"},\"x_range\":{\"id\":\"1233\"},\"x_scale\":{\"id\":\"1237\"},\"y_range\":{\"id\":\"1235\"},\"y_scale\":{\"id\":\"1239\"}},\"id\":\"1230\",\"subtype\":\"Figure\",\"type\":\"Plot\"},{\"attributes\":{},\"id\":\"1237\",\"type\":\"LinearScale\"},{\"attributes\":{\"active_drag\":\"auto\",\"active_inspect\":\"auto\",\"active_multi\":null,\"active_scroll\":\"auto\",\"active_tap\":\"auto\",\"tools\":[{\"id\":\"1249\"},{\"id\":\"1250\"},{\"id\":\"1251\"},{\"id\":\"1252\"},{\"id\":\"1253\"},{\"id\":\"1254\"}]},\"id\":\"1256\",\"type\":\"Toolbar\"},{\"attributes\":{},\"id\":\"1246\",\"type\":\"BasicTicker\"},{\"attributes\":{},\"id\":\"1242\",\"type\":\"BasicTicker\"},{\"attributes\":{\"bottom_units\":\"screen\",\"fill_alpha\":0.5,\"fill_color\":\"lightgrey\",\"left_units\":\"screen\",\"level\":\"overlay\",\"line_alpha\":1.0,\"line_color\":\"black\",\"line_dash\":[4,4],\"line_width\":2,\"right_units\":\"screen\",\"top_units\":\"screen\"},\"id\":\"1255\",\"type\":\"BoxAnnotation\"},{\"attributes\":{\"axis\":{\"id\":\"1245\"},\"dimension\":1,\"ticker\":null},\"id\":\"1248\",\"type\":\"Grid\"},{\"attributes\":{},\"id\":\"1249\",\"type\":\"PanTool\"},{\"attributes\":{},\"id\":\"1287\",\"type\":\"BasicTickFormatter\"},{\"attributes\":{\"axis_label\":\"x\",\"formatter\":{\"id\":\"1289\"},\"ticker\":{\"id\":\"1242\"}},\"id\":\"1241\",\"type\":\"LinearAxis\"},{\"attributes\":{},\"id\":\"1252\",\"type\":\"SaveTool\"},{\"attributes\":{},\"id\":\"1254\",\"type\":\"HelpTool\"},{\"attributes\":{},\"id\":\"1253\",\"type\":\"ResetTool\"},{\"attributes\":{},\"id\":\"1289\",\"type\":\"BasicTickFormatter\"},{\"attributes\":{\"data\":{\"top\":[3,7,6,8,12,17,30,33,43,98,122,164,221,274,353,432,474,588,636,742,765,783,872,915,951,877,865,816,698,621,589,531,537,509,536,507,492,478,412,320,274,157,109,61,26,19,9,5,1,2],\"x\":{\"__ndarray__\":\"LCRC4AD9DMDoKqf5zcULwKQxDBObjgrAYDhxLGhXCcAbP9ZFNSAIwNdFO18C6QbAk0ygeM+xBcBOUwWSnHoEwApaaqtpQwPAxmDPxDYMAsCCZzTeA9UAwHzcMu+hO/+/9On8ITzN/L9r98ZU1l76v+IEkYdw8Pe/WhJbugqC9b/SHyXtpBPzv0ot7x8/pfC/hHVypbJt7L9wkAYL55Dnv2CrmnAbtOK/oIxdrJ+u27+AwoV3CPXRv8DwW4XidsC/ABydIl/ilz/QNwNOem/GPwhm2VtU8dQ/MDCxkOuq3j8ofcRiQTLkPzhiMP0MD+k/SEecl9jr7T8sFgQZUmTxP7QIOua30vM/PPtvsx1B9j/E7aWAg6/4P0zg203pHfs/1NIRG0+M/T9cxUfotPr/P/TbvlqNNAFAONVZQcBrAkB8zvQn86IDQMDHjw4m2gRABMEq9VgRBkBIusXbi0gHQIyzYMK+fwhA0Kz7qPG2CUAUppaPJO4KQFifMXZXJQxAnJjMXIpcDUDikWdDvZMOQA==\",\"dtype\":\"float64\",\"order\":\"little\",\"shape\":[50]}},\"selected\":{\"id\":\"1291\"},\"selection_policy\":{\"id\":\"1292\"}},\"id\":\"1263\",\"type\":\"ColumnDataSource\"},{\"attributes\":{\"data_source\":{\"id\":\"1263\"},\"glyph\":{\"id\":\"1264\"},\"hover_glyph\":null,\"muted_glyph\":null,\"nonselection_glyph\":{\"id\":\"1265\"},\"selection_glyph\":null,\"view\":{\"id\":\"1267\"}},\"id\":\"1266\",\"type\":\"GlyphRenderer\"},{\"attributes\":{\"overlay\":{\"id\":\"1255\"}},\"id\":\"1251\",\"type\":\"BoxZoomTool\"},{\"attributes\":{\"source\":{\"id\":\"1263\"}},\"id\":\"1267\",\"type\":\"CDSView\"},{\"attributes\":{},\"id\":\"1239\",\"type\":\"LinearScale\"},{\"attributes\":{},\"id\":\"1250\",\"type\":\"WheelZoomTool\"},{\"attributes\":{\"fill_alpha\":{\"value\":0.1},\"fill_color\":{\"value\":\"#1f77b4\"},\"line_alpha\":{\"value\":0.1},\"line_color\":{\"value\":\"#1f77b4\"},\"top\":{\"field\":\"top\"},\"width\":{\"value\":0.15195255432550603},\"x\":{\"field\":\"x\"}},\"id\":\"1265\",\"type\":\"VBar\"},{\"attributes\":{\"fill_color\":{\"value\":\"#1f77b4\"},\"line_color\":{\"value\":\"#1f77b4\"},\"top\":{\"field\":\"top\"},\"width\":{\"value\":0.15195255432550603},\"x\":{\"field\":\"x\"}},\"id\":\"1264\",\"type\":\"VBar\"},{\"attributes\":{\"axis_label\":\"y\",\"formatter\":{\"id\":\"1287\"},\"ticker\":{\"id\":\"1246\"}},\"id\":\"1245\",\"type\":\"LinearAxis\"},{\"attributes\":{\"text\":\"A basic histogram\"},\"id\":\"1231\",\"type\":\"Title\"},{\"attributes\":{},\"id\":\"1233\",\"type\":\"DataRange1d\"},{\"attributes\":{},\"id\":\"1291\",\"type\":\"Selection\"},{\"attributes\":{\"axis\":{\"id\":\"1241\"},\"ticker\":null},\"id\":\"1244\",\"type\":\"Grid\"},{\"attributes\":{},\"id\":\"1292\",\"type\":\"UnionRenderers\"},{\"attributes\":{},\"id\":\"1235\",\"type\":\"DataRange1d\"}],\"root_ids\":[\"1230\"]},\"title\":\"Bokeh Application\",\"version\":\"2.2.3\"}};\n",
       "  var render_items = [{\"docid\":\"627156d5-32d2-4054-885e-fe453278da05\",\"root_ids\":[\"1230\"],\"roots\":{\"1230\":\"8fc796c8-e038-4729-908e-6f17cec6b626\"}}];\n",
       "  root.Bokeh.embed.embed_items_notebook(docs_json, render_items);\n",
       "\n",
       "  }\n",
       "  if (root.Bokeh !== undefined) {\n",
       "    embed_document(root);\n",
       "  } else {\n",
       "    var attempts = 0;\n",
       "    var timer = setInterval(function(root) {\n",
       "      if (root.Bokeh !== undefined) {\n",
       "        clearInterval(timer);\n",
       "        embed_document(root);\n",
       "      } else {\n",
       "        attempts++;\n",
       "        if (attempts > 100) {\n",
       "          clearInterval(timer);\n",
       "          console.log(\"Bokeh: ERROR: Unable to run BokehJS code because BokehJS library is missing\");\n",
       "        }\n",
       "      }\n",
       "    }, 10, root)\n",
       "  }\n",
       "})(window);"
      ],
      "application/vnd.bokehjs_exec.v0+json": ""
     },
     "metadata": {
      "application/vnd.bokehjs_exec.v0+json": {
       "id": "1230"
      }
     },
     "output_type": "display_data"
    }
   ],
   "source": [
    "plot = bplot.figure(title=\"A basic histogram\", x_axis_label=\"x\", y_axis_label=\"y\")\n",
    "plot.vbar(x=e[0:-1], top=Q, width=e[1] - e[0])\n",
    "bplot.show(plot)"
   ]
  },
  {
   "cell_type": "code",
   "execution_count": 9,
   "metadata": {},
   "outputs": [
    {
     "data": {
      "text/html": [
       "\n",
       "\n",
       "\n",
       "\n",
       "\n",
       "\n",
       "  <div class=\"bk-root\" id=\"4b4e032e-8a48-478c-8513-fc226ee79809\" data-root-id=\"1334\"></div>\n"
      ]
     },
     "metadata": {},
     "output_type": "display_data"
    },
    {
     "data": {
      "application/javascript": [
       "(function(root) {\n",
       "  function embed_document(root) {\n",
       "    \n",
       "  var docs_json = {\"e23b0167-d1ff-4649-ac5c-a049aa291e49\":{\"roots\":{\"references\":[{\"attributes\":{\"below\":[{\"id\":\"1345\"}],\"center\":[{\"id\":\"1348\"},{\"id\":\"1352\"}],\"left\":[{\"id\":\"1349\"}],\"renderers\":[{\"id\":\"1370\"},{\"id\":\"1375\"}],\"title\":{\"id\":\"1335\"},\"toolbar\":{\"id\":\"1360\"},\"x_range\":{\"id\":\"1337\"},\"x_scale\":{\"id\":\"1341\"},\"y_range\":{\"id\":\"1339\"},\"y_scale\":{\"id\":\"1343\"}},\"id\":\"1334\",\"subtype\":\"Figure\",\"type\":\"Plot\"},{\"attributes\":{\"fill_alpha\":0.1,\"fill_color\":\"#1f77b4\",\"x\":{\"field\":\"x\"},\"y1\":{\"value\":0},\"y2\":{\"field\":\"y2\"}},\"id\":\"1369\",\"type\":\"VArea\"},{\"attributes\":{\"fill_alpha\":0.3,\"fill_color\":\"#1f77b4\",\"x\":{\"field\":\"x\"},\"y1\":{\"value\":0},\"y2\":{\"field\":\"y2\"}},\"id\":\"1368\",\"type\":\"VArea\"},{\"attributes\":{\"bottom_units\":\"screen\",\"fill_alpha\":0.5,\"fill_color\":\"lightgrey\",\"left_units\":\"screen\",\"level\":\"overlay\",\"line_alpha\":1.0,\"line_color\":\"black\",\"line_dash\":[4,4],\"line_width\":2,\"right_units\":\"screen\",\"top_units\":\"screen\"},\"id\":\"1359\",\"type\":\"BoxAnnotation\"},{\"attributes\":{\"data_source\":{\"id\":\"1367\"},\"glyph\":{\"id\":\"1368\"},\"hover_glyph\":null,\"muted_glyph\":null,\"nonselection_glyph\":{\"id\":\"1369\"},\"selection_glyph\":null,\"view\":{\"id\":\"1371\"}},\"id\":\"1370\",\"type\":\"GlyphRenderer\"},{\"attributes\":{\"source\":{\"id\":\"1367\"}},\"id\":\"1371\",\"type\":\"CDSView\"},{\"attributes\":{},\"id\":\"1346\",\"type\":\"BasicTicker\"},{\"attributes\":{},\"id\":\"1408\",\"type\":\"Selection\"},{\"attributes\":{},\"id\":\"1409\",\"type\":\"UnionRenderers\"},{\"attributes\":{},\"id\":\"1343\",\"type\":\"LinearScale\"},{\"attributes\":{\"data\":{\"x\":{\"__ndarray__\":\"LCRC4AD9DMDoKqf5zcULwKQxDBObjgrAYDhxLGhXCcAbP9ZFNSAIwNdFO18C6QbAk0ygeM+xBcBOUwWSnHoEwApaaqtpQwPAxmDPxDYMAsCCZzTeA9UAwHzcMu+hO/+/9On8ITzN/L9r98ZU1l76v+IEkYdw8Pe/WhJbugqC9b/SHyXtpBPzv0ot7x8/pfC/hHVypbJt7L9wkAYL55Dnv2CrmnAbtOK/oIxdrJ+u27+AwoV3CPXRv8DwW4XidsC/ABydIl/ilz/QNwNOem/GPwhm2VtU8dQ/MDCxkOuq3j8ofcRiQTLkPzhiMP0MD+k/SEecl9jr7T8sFgQZUmTxP7QIOua30vM/PPtvsx1B9j/E7aWAg6/4P0zg203pHfs/1NIRG0+M/T9cxUfotPr/P/TbvlqNNAFAONVZQcBrAkB8zvQn86IDQMDHjw4m2gRABMEq9VgRBkBIusXbi0gHQIyzYMK+fwhA0Kz7qPG2CUAUppaPJO4KQFifMXZXJQxAnJjMXIpcDUDikWdDvZMOQA==\",\"dtype\":\"float64\",\"order\":\"little\",\"shape\":[50]},\"y2\":[3,7,6,8,12,17,30,33,43,98,122,164,221,274,353,432,474,588,636,742,765,783,872,915,951,877,865,816,698,621,589,531,537,509,536,507,492,478,412,320,274,157,109,61,26,19,9,5,1,2]},\"selected\":{\"id\":\"1408\"},\"selection_policy\":{\"id\":\"1409\"}},\"id\":\"1367\",\"type\":\"ColumnDataSource\"},{\"attributes\":{},\"id\":\"1353\",\"type\":\"PanTool\"},{\"attributes\":{\"active_drag\":\"auto\",\"active_inspect\":\"auto\",\"active_multi\":null,\"active_scroll\":\"auto\",\"active_tap\":\"auto\",\"tools\":[{\"id\":\"1353\"},{\"id\":\"1354\"},{\"id\":\"1355\"},{\"id\":\"1356\"},{\"id\":\"1357\"},{\"id\":\"1358\"}]},\"id\":\"1360\",\"type\":\"Toolbar\"},{\"attributes\":{\"axis_label\":\"y\",\"formatter\":{\"id\":\"1404\"},\"ticker\":{\"id\":\"1350\"}},\"id\":\"1349\",\"type\":\"LinearAxis\"},{\"attributes\":{},\"id\":\"1350\",\"type\":\"BasicTicker\"},{\"attributes\":{},\"id\":\"1356\",\"type\":\"SaveTool\"},{\"attributes\":{},\"id\":\"1410\",\"type\":\"Selection\"},{\"attributes\":{},\"id\":\"1411\",\"type\":\"UnionRenderers\"},{\"attributes\":{},\"id\":\"1357\",\"type\":\"ResetTool\"},{\"attributes\":{\"axis\":{\"id\":\"1345\"},\"ticker\":null},\"id\":\"1348\",\"type\":\"Grid\"},{\"attributes\":{\"line_color\":\"#1f77b4\",\"line_width\":2,\"x\":{\"field\":\"x\"},\"y\":{\"field\":\"y\"}},\"id\":\"1373\",\"type\":\"Line\"},{\"attributes\":{},\"id\":\"1354\",\"type\":\"WheelZoomTool\"},{\"attributes\":{},\"id\":\"1339\",\"type\":\"DataRange1d\"},{\"attributes\":{},\"id\":\"1404\",\"type\":\"BasicTickFormatter\"},{\"attributes\":{\"overlay\":{\"id\":\"1359\"}},\"id\":\"1355\",\"type\":\"BoxZoomTool\"},{\"attributes\":{\"axis_label\":\"x\",\"formatter\":{\"id\":\"1406\"},\"ticker\":{\"id\":\"1346\"}},\"id\":\"1345\",\"type\":\"LinearAxis\"},{\"attributes\":{\"axis\":{\"id\":\"1349\"},\"dimension\":1,\"ticker\":null},\"id\":\"1352\",\"type\":\"Grid\"},{\"attributes\":{},\"id\":\"1341\",\"type\":\"LinearScale\"},{\"attributes\":{},\"id\":\"1406\",\"type\":\"BasicTickFormatter\"},{\"attributes\":{},\"id\":\"1358\",\"type\":\"HelpTool\"},{\"attributes\":{\"data\":{\"x\":{\"__ndarray__\":\"LCRC4AD9DMDoKqf5zcULwKQxDBObjgrAYDhxLGhXCcAbP9ZFNSAIwNdFO18C6QbAk0ygeM+xBcBOUwWSnHoEwApaaqtpQwPAxmDPxDYMAsCCZzTeA9UAwHzcMu+hO/+/9On8ITzN/L9r98ZU1l76v+IEkYdw8Pe/WhJbugqC9b/SHyXtpBPzv0ot7x8/pfC/hHVypbJt7L9wkAYL55Dnv2CrmnAbtOK/oIxdrJ+u27+AwoV3CPXRv8DwW4XidsC/ABydIl/ilz/QNwNOem/GPwhm2VtU8dQ/MDCxkOuq3j8ofcRiQTLkPzhiMP0MD+k/SEecl9jr7T8sFgQZUmTxP7QIOua30vM/PPtvsx1B9j/E7aWAg6/4P0zg203pHfs/1NIRG0+M/T9cxUfotPr/P/TbvlqNNAFAONVZQcBrAkB8zvQn86IDQMDHjw4m2gRABMEq9VgRBkBIusXbi0gHQIyzYMK+fwhA0Kz7qPG2CUAUppaPJO4KQFifMXZXJQxAnJjMXIpcDUDikWdDvZMOQA==\",\"dtype\":\"float64\",\"order\":\"little\",\"shape\":[50]},\"y\":[3,7,6,8,12,17,30,33,43,98,122,164,221,274,353,432,474,588,636,742,765,783,872,915,951,877,865,816,698,621,589,531,537,509,536,507,492,478,412,320,274,157,109,61,26,19,9,5,1,2]},\"selected\":{\"id\":\"1410\"},\"selection_policy\":{\"id\":\"1411\"}},\"id\":\"1372\",\"type\":\"ColumnDataSource\"},{\"attributes\":{\"text\":\"A line histogram histogram\"},\"id\":\"1335\",\"type\":\"Title\"},{\"attributes\":{\"source\":{\"id\":\"1372\"}},\"id\":\"1376\",\"type\":\"CDSView\"},{\"attributes\":{\"data_source\":{\"id\":\"1372\"},\"glyph\":{\"id\":\"1373\"},\"hover_glyph\":null,\"muted_glyph\":null,\"nonselection_glyph\":{\"id\":\"1374\"},\"selection_glyph\":null,\"view\":{\"id\":\"1376\"}},\"id\":\"1375\",\"type\":\"GlyphRenderer\"},{\"attributes\":{\"line_alpha\":0.1,\"line_color\":\"#1f77b4\",\"line_width\":2,\"x\":{\"field\":\"x\"},\"y\":{\"field\":\"y\"}},\"id\":\"1374\",\"type\":\"Line\"},{\"attributes\":{},\"id\":\"1337\",\"type\":\"DataRange1d\"}],\"root_ids\":[\"1334\"]},\"title\":\"Bokeh Application\",\"version\":\"2.2.3\"}};\n",
       "  var render_items = [{\"docid\":\"e23b0167-d1ff-4649-ac5c-a049aa291e49\",\"root_ids\":[\"1334\"],\"roots\":{\"1334\":\"4b4e032e-8a48-478c-8513-fc226ee79809\"}}];\n",
       "  root.Bokeh.embed.embed_items_notebook(docs_json, render_items);\n",
       "\n",
       "  }\n",
       "  if (root.Bokeh !== undefined) {\n",
       "    embed_document(root);\n",
       "  } else {\n",
       "    var attempts = 0;\n",
       "    var timer = setInterval(function(root) {\n",
       "      if (root.Bokeh !== undefined) {\n",
       "        clearInterval(timer);\n",
       "        embed_document(root);\n",
       "      } else {\n",
       "        attempts++;\n",
       "        if (attempts > 100) {\n",
       "          clearInterval(timer);\n",
       "          console.log(\"Bokeh: ERROR: Unable to run BokehJS code because BokehJS library is missing\");\n",
       "        }\n",
       "      }\n",
       "    }, 10, root)\n",
       "  }\n",
       "})(window);"
      ],
      "application/vnd.bokehjs_exec.v0+json": ""
     },
     "metadata": {
      "application/vnd.bokehjs_exec.v0+json": {
       "id": "1334"
      }
     },
     "output_type": "display_data"
    }
   ],
   "source": [
    "plot = bplot.figure(title=\"A line histogram histogram\", x_axis_label=\"x\", y_axis_label=\"y\")\n",
    "plot.varea(\n",
    "    x=e[0:-1],\n",
    "    y1=0,\n",
    "    y2=Q,\n",
    "    fill_alpha=0.3\n",
    ")\n",
    "plot.line(\n",
    "    x=e[0:-1],\n",
    "    y=Q,\n",
    "    line_width=2\n",
    ")\n",
    "bplot.show(plot)"
   ]
  },
  {
   "cell_type": "code",
   "execution_count": 11,
   "metadata": {},
   "outputs": [
    {
     "data": {
      "text/html": [
       "\n",
       "\n",
       "\n",
       "\n",
       "\n",
       "\n",
       "  <div class=\"bk-root\" id=\"7cd4aabd-ce46-4350-86c2-ab9c39bb6987\" data-root-id=\"1602\"></div>\n"
      ]
     },
     "metadata": {},
     "output_type": "display_data"
    },
    {
     "data": {
      "application/javascript": [
       "(function(root) {\n",
       "  function embed_document(root) {\n",
       "    \n",
       "  var docs_json = {\"462d7f3c-e8ad-43c9-9438-138501923d6c\":{\"roots\":{\"references\":[{\"attributes\":{\"below\":[{\"id\":\"1613\"}],\"center\":[{\"id\":\"1616\"},{\"id\":\"1620\"}],\"left\":[{\"id\":\"1617\"}],\"renderers\":[{\"id\":\"1638\"},{\"id\":\"1643\"}],\"title\":{\"id\":\"1603\"},\"toolbar\":{\"id\":\"1628\"},\"x_range\":{\"id\":\"1605\"},\"x_scale\":{\"id\":\"1609\"},\"y_range\":{\"id\":\"1607\"},\"y_scale\":{\"id\":\"1611\"}},\"id\":\"1602\",\"subtype\":\"Figure\",\"type\":\"Plot\"},{\"attributes\":{},\"id\":\"1609\",\"type\":\"LinearScale\"},{\"attributes\":{\"text\":\"A line histogram histogram\"},\"id\":\"1603\",\"type\":\"Title\"},{\"attributes\":{},\"id\":\"1692\",\"type\":\"BasicTickFormatter\"},{\"attributes\":{\"data_source\":{\"id\":\"1635\"},\"glyph\":{\"id\":\"1636\"},\"hover_glyph\":null,\"muted_glyph\":null,\"nonselection_glyph\":{\"id\":\"1637\"},\"selection_glyph\":null,\"view\":{\"id\":\"1639\"}},\"id\":\"1638\",\"type\":\"GlyphRenderer\"},{\"attributes\":{},\"id\":\"1605\",\"type\":\"DataRange1d\"},{\"attributes\":{\"bottom_units\":\"screen\",\"fill_alpha\":0.5,\"fill_color\":\"lightgrey\",\"left_units\":\"screen\",\"level\":\"overlay\",\"line_alpha\":1.0,\"line_color\":\"black\",\"line_dash\":[4,4],\"line_width\":2,\"right_units\":\"screen\",\"top_units\":\"screen\"},\"id\":\"1627\",\"type\":\"BoxAnnotation\"},{\"attributes\":{},\"id\":\"1694\",\"type\":\"BasicTickFormatter\"},{\"attributes\":{\"source\":{\"id\":\"1640\"}},\"id\":\"1644\",\"type\":\"CDSView\"},{\"attributes\":{\"data_source\":{\"id\":\"1640\"},\"glyph\":{\"id\":\"1641\"},\"hover_glyph\":null,\"muted_glyph\":null,\"nonselection_glyph\":{\"id\":\"1642\"},\"selection_glyph\":null,\"view\":{\"id\":\"1644\"}},\"id\":\"1643\",\"type\":\"GlyphRenderer\"},{\"attributes\":{},\"id\":\"1626\",\"type\":\"HelpTool\"},{\"attributes\":{\"line_alpha\":0.1,\"line_color\":\"#1f77b4\",\"line_width\":2,\"x\":{\"field\":\"x\"},\"y\":{\"field\":\"y\"}},\"id\":\"1642\",\"type\":\"Line\"},{\"attributes\":{\"fill_alpha\":0.3,\"fill_color\":\"#1f77b4\",\"x\":{\"field\":\"x\"},\"y1\":{\"value\":0},\"y2\":{\"field\":\"y2\"}},\"id\":\"1636\",\"type\":\"VArea\"},{\"attributes\":{\"source\":{\"id\":\"1635\"}},\"id\":\"1639\",\"type\":\"CDSView\"},{\"attributes\":{\"data\":{\"x\":{\"__ndarray__\":\"LCRC4AD9DMDoKqf5zcULwKQxDBObjgrAYDhxLGhXCcAbP9ZFNSAIwNdFO18C6QbAk0ygeM+xBcBOUwWSnHoEwApaaqtpQwPAxmDPxDYMAsCCZzTeA9UAwHzcMu+hO/+/9On8ITzN/L9r98ZU1l76v+IEkYdw8Pe/WhJbugqC9b/SHyXtpBPzv0ot7x8/pfC/hHVypbJt7L9wkAYL55Dnv2CrmnAbtOK/oIxdrJ+u27+AwoV3CPXRv8DwW4XidsC/ABydIl/ilz/QNwNOem/GPwhm2VtU8dQ/MDCxkOuq3j8ofcRiQTLkPzhiMP0MD+k/SEecl9jr7T8sFgQZUmTxP7QIOua30vM/PPtvsx1B9j/E7aWAg6/4P0zg203pHfs/1NIRG0+M/T9cxUfotPr/P/TbvlqNNAFAONVZQcBrAkB8zvQn86IDQMDHjw4m2gRABMEq9VgRBkBIusXbi0gHQIyzYMK+fwhA0Kz7qPG2CUAUppaPJO4KQFifMXZXJQxAnJjMXIpcDUDikWdDvZMOQA==\",\"dtype\":\"float64\",\"order\":\"little\",\"shape\":[50]},\"y2\":{\"__ndarray__\":\"0MXKTY4dIECgtHYCOhUrQIu/hOXDIDFAvKyyrGQqNkDdhKLphQRAQD/m4snyAkhADakyP0fxUEA5J79nxzVXQAyHe+vY4GFAbYO0sKIXbECDyUiWO8pzQBgK2+YnZnpACwDXuI43gUA+KtSod/aFQIe9MzsmWotA74VKGwppkED+aY4OCCqTQHz8qNaHMJZAGZZj+3YpmUBkascvLcWbQN43nfAtmJ1Ax8X1pJBAn0DbQCyyP6ygQA4hMVO5iqFAQwu17fXBoUCxWDA6c0mhQIHxmW8MhqBADh55bfW6nkBAGdC/cpmbQKpkPzmbv5hAX2ueF3O7lkBWtACSh1uVQNxuPSMtoJRAfoqhRSRRlECV4VwK+y2UQJud4JZbwJNAbzTcFOwGk0B9HmVr58iRQNNlGCVtPY9AdIFfvCSwiUCWBos0mc6DQEP5i+LSjXtAZhB4NDCdcUBvwkO3a9ZkQLDggjF9n1ZAhGVE4JGUSEDqFd479jU7QF2UgNuP0CtAyn/vmtzaGUASvkcSAkQKQA==\",\"dtype\":\"float64\",\"order\":\"little\",\"shape\":[50]}},\"selected\":{\"id\":\"1696\"},\"selection_policy\":{\"id\":\"1697\"}},\"id\":\"1635\",\"type\":\"ColumnDataSource\"},{\"attributes\":{},\"id\":\"1624\",\"type\":\"SaveTool\"},{\"attributes\":{\"data\":{\"x\":{\"__ndarray__\":\"LCRC4AD9DMDoKqf5zcULwKQxDBObjgrAYDhxLGhXCcAbP9ZFNSAIwNdFO18C6QbAk0ygeM+xBcBOUwWSnHoEwApaaqtpQwPAxmDPxDYMAsCCZzTeA9UAwHzcMu+hO/+/9On8ITzN/L9r98ZU1l76v+IEkYdw8Pe/WhJbugqC9b/SHyXtpBPzv0ot7x8/pfC/hHVypbJt7L9wkAYL55Dnv2CrmnAbtOK/oIxdrJ+u27+AwoV3CPXRv8DwW4XidsC/ABydIl/ilz/QNwNOem/GPwhm2VtU8dQ/MDCxkOuq3j8ofcRiQTLkPzhiMP0MD+k/SEecl9jr7T8sFgQZUmTxP7QIOua30vM/PPtvsx1B9j/E7aWAg6/4P0zg203pHfs/1NIRG0+M/T9cxUfotPr/P/TbvlqNNAFAONVZQcBrAkB8zvQn86IDQMDHjw4m2gRABMEq9VgRBkBIusXbi0gHQIyzYMK+fwhA0Kz7qPG2CUAUppaPJO4KQFifMXZXJQxAnJjMXIpcDUDikWdDvZMOQA==\",\"dtype\":\"float64\",\"order\":\"little\",\"shape\":[50]},\"y\":{\"__ndarray__\":\"0MXKTY4dIECgtHYCOhUrQIu/hOXDIDFAvKyyrGQqNkDdhKLphQRAQD/m4snyAkhADakyP0fxUEA5J79nxzVXQAyHe+vY4GFAbYO0sKIXbECDyUiWO8pzQBgK2+YnZnpACwDXuI43gUA+KtSod/aFQIe9MzsmWotA74VKGwppkED+aY4OCCqTQHz8qNaHMJZAGZZj+3YpmUBkascvLcWbQN43nfAtmJ1Ax8X1pJBAn0DbQCyyP6ygQA4hMVO5iqFAQwu17fXBoUCxWDA6c0mhQIHxmW8MhqBADh55bfW6nkBAGdC/cpmbQKpkPzmbv5hAX2ueF3O7lkBWtACSh1uVQNxuPSMtoJRAfoqhRSRRlECV4VwK+y2UQJud4JZbwJNAbzTcFOwGk0B9HmVr58iRQNNlGCVtPY9AdIFfvCSwiUCWBos0mc6DQEP5i+LSjXtAZhB4NDCdcUBvwkO3a9ZkQLDggjF9n1ZAhGVE4JGUSEDqFd479jU7QF2UgNuP0CtAyn/vmtzaGUASvkcSAkQKQA==\",\"dtype\":\"float64\",\"order\":\"little\",\"shape\":[50]}},\"selected\":{\"id\":\"1698\"},\"selection_policy\":{\"id\":\"1699\"}},\"id\":\"1640\",\"type\":\"ColumnDataSource\"},{\"attributes\":{},\"id\":\"1618\",\"type\":\"BasicTicker\"},{\"attributes\":{\"axis\":{\"id\":\"1617\"},\"dimension\":1,\"ticker\":null},\"id\":\"1620\",\"type\":\"Grid\"},{\"attributes\":{\"overlay\":{\"id\":\"1627\"}},\"id\":\"1623\",\"type\":\"BoxZoomTool\"},{\"attributes\":{},\"id\":\"1621\",\"type\":\"PanTool\"},{\"attributes\":{},\"id\":\"1696\",\"type\":\"Selection\"},{\"attributes\":{},\"id\":\"1697\",\"type\":\"UnionRenderers\"},{\"attributes\":{\"axis_label\":\"y\",\"formatter\":{\"id\":\"1692\"},\"ticker\":{\"id\":\"1618\"}},\"id\":\"1617\",\"type\":\"LinearAxis\"},{\"attributes\":{\"axis\":{\"id\":\"1613\"},\"ticker\":null},\"id\":\"1616\",\"type\":\"Grid\"},{\"attributes\":{},\"id\":\"1698\",\"type\":\"Selection\"},{\"attributes\":{},\"id\":\"1699\",\"type\":\"UnionRenderers\"},{\"attributes\":{},\"id\":\"1625\",\"type\":\"ResetTool\"},{\"attributes\":{},\"id\":\"1622\",\"type\":\"WheelZoomTool\"},{\"attributes\":{\"line_color\":\"#1f77b4\",\"line_width\":2,\"x\":{\"field\":\"x\"},\"y\":{\"field\":\"y\"}},\"id\":\"1641\",\"type\":\"Line\"},{\"attributes\":{\"fill_alpha\":0.1,\"fill_color\":\"#1f77b4\",\"x\":{\"field\":\"x\"},\"y1\":{\"value\":0},\"y2\":{\"field\":\"y2\"}},\"id\":\"1637\",\"type\":\"VArea\"},{\"attributes\":{},\"id\":\"1614\",\"type\":\"BasicTicker\"},{\"attributes\":{\"active_drag\":\"auto\",\"active_inspect\":\"auto\",\"active_multi\":null,\"active_scroll\":\"auto\",\"active_tap\":\"auto\",\"tools\":[{\"id\":\"1621\"},{\"id\":\"1622\"},{\"id\":\"1623\"},{\"id\":\"1624\"},{\"id\":\"1625\"},{\"id\":\"1626\"}]},\"id\":\"1628\",\"type\":\"Toolbar\"},{\"attributes\":{},\"id\":\"1607\",\"type\":\"DataRange1d\"},{\"attributes\":{},\"id\":\"1611\",\"type\":\"LinearScale\"},{\"attributes\":{\"axis_label\":\"x\",\"formatter\":{\"id\":\"1694\"},\"ticker\":{\"id\":\"1614\"}},\"id\":\"1613\",\"type\":\"LinearAxis\"}],\"root_ids\":[\"1602\"]},\"title\":\"Bokeh Application\",\"version\":\"2.2.3\"}};\n",
       "  var render_items = [{\"docid\":\"462d7f3c-e8ad-43c9-9438-138501923d6c\",\"root_ids\":[\"1602\"],\"roots\":{\"1602\":\"7cd4aabd-ce46-4350-86c2-ab9c39bb6987\"}}];\n",
       "  root.Bokeh.embed.embed_items_notebook(docs_json, render_items);\n",
       "\n",
       "  }\n",
       "  if (root.Bokeh !== undefined) {\n",
       "    embed_document(root);\n",
       "  } else {\n",
       "    var attempts = 0;\n",
       "    var timer = setInterval(function(root) {\n",
       "      if (root.Bokeh !== undefined) {\n",
       "        clearInterval(timer);\n",
       "        embed_document(root);\n",
       "      } else {\n",
       "        attempts++;\n",
       "        if (attempts > 100) {\n",
       "          clearInterval(timer);\n",
       "          console.log(\"Bokeh: ERROR: Unable to run BokehJS code because BokehJS library is missing\");\n",
       "        }\n",
       "      }\n",
       "    }, 10, root)\n",
       "  }\n",
       "})(window);"
      ],
      "application/vnd.bokehjs_exec.v0+json": ""
     },
     "metadata": {
      "application/vnd.bokehjs_exec.v0+json": {
       "id": "1602"
      }
     },
     "output_type": "display_data"
    }
   ],
   "source": [
    "import scipy.signal\n",
    "kernel = scipy.signal.gaussian(5, 1)\n",
    "qq = np.convolve(Q, kernel, mode=\"same\")\n",
    "plot = bplot.figure(title=\"A line histogram histogram\", x_axis_label=\"x\", y_axis_label=\"y\")\n",
    "plot.varea(\n",
    "    x=e[0:-1],\n",
    "    y1=0,\n",
    "    y2=qq,\n",
    "    fill_alpha=0.3\n",
    ")\n",
    "plot.line(\n",
    "    x=e[0:-1],\n",
    "    y=qq,\n",
    "    line_width=2\n",
    ")\n",
    "bplot.show(plot)"
   ]
  },
  {
   "cell_type": "code",
   "execution_count": null,
   "metadata": {},
   "outputs": [],
   "source": []
  }
 ],
 "metadata": {
  "kernelspec": {
   "display_name": "Python 3",
   "language": "python",
   "name": "python3"
  },
  "language_info": {
   "codemirror_mode": {
    "name": "ipython",
    "version": 3
   },
   "file_extension": ".py",
   "mimetype": "text/x-python",
   "name": "python",
   "nbconvert_exporter": "python",
   "pygments_lexer": "ipython3",
   "version": "3.9.2"
  }
 },
 "nbformat": 4,
 "nbformat_minor": 4
}
